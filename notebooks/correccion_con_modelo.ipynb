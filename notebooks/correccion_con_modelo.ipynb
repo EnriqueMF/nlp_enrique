{
 "cells": [
  {
   "cell_type": "markdown",
   "metadata": {},
   "source": [
    "## Importamos el excel"
   ]
  },
  {
   "cell_type": "code",
   "execution_count": 72,
   "metadata": {},
   "outputs": [
    {
     "ename": "FileNotFoundError",
     "evalue": "[Errno 2] No such file or directory: '/home/jovyan/work/transcripciones_frases.csv'",
     "output_type": "error",
     "traceback": [
      "\u001b[0;31m---------------------------------------------------------------------------\u001b[0m",
      "\u001b[0;31mFileNotFoundError\u001b[0m                         Traceback (most recent call last)",
      "Cell \u001b[0;32mIn[72], line 7\u001b[0m\n\u001b[1;32m      4\u001b[0m file_path \u001b[38;5;241m=\u001b[39m \u001b[38;5;124m'\u001b[39m\u001b[38;5;124m/home/jovyan/work/transcripciones_frases.csv\u001b[39m\u001b[38;5;124m'\u001b[39m\n\u001b[1;32m      6\u001b[0m \u001b[38;5;66;03m# Cargamos el archivo Excel\u001b[39;00m\n\u001b[0;32m----> 7\u001b[0m df \u001b[38;5;241m=\u001b[39m \u001b[43mpd\u001b[49m\u001b[38;5;241;43m.\u001b[39;49m\u001b[43mread_csv\u001b[49m\u001b[43m(\u001b[49m\u001b[43mfile_path\u001b[49m\u001b[43m)\u001b[49m\n\u001b[1;32m      9\u001b[0m \u001b[38;5;66;03m# Verificar que las columnas existen\u001b[39;00m\n\u001b[1;32m     10\u001b[0m \u001b[38;5;28;01massert\u001b[39;00m \u001b[38;5;124m'\u001b[39m\u001b[38;5;124mTexto Original\u001b[39m\u001b[38;5;124m'\u001b[39m \u001b[38;5;129;01min\u001b[39;00m df\u001b[38;5;241m.\u001b[39mcolumns, \u001b[38;5;124m\"\u001b[39m\u001b[38;5;124mLa columna \u001b[39m\u001b[38;5;124m'\u001b[39m\u001b[38;5;124mTexto Original\u001b[39m\u001b[38;5;124m'\u001b[39m\u001b[38;5;124m no existe en el archivo Excel\u001b[39m\u001b[38;5;124m\"\u001b[39m\n",
      "File \u001b[0;32m/opt/conda/lib/python3.11/site-packages/pandas/io/parsers/readers.py:1026\u001b[0m, in \u001b[0;36mread_csv\u001b[0;34m(filepath_or_buffer, sep, delimiter, header, names, index_col, usecols, dtype, engine, converters, true_values, false_values, skipinitialspace, skiprows, skipfooter, nrows, na_values, keep_default_na, na_filter, verbose, skip_blank_lines, parse_dates, infer_datetime_format, keep_date_col, date_parser, date_format, dayfirst, cache_dates, iterator, chunksize, compression, thousands, decimal, lineterminator, quotechar, quoting, doublequote, escapechar, comment, encoding, encoding_errors, dialect, on_bad_lines, delim_whitespace, low_memory, memory_map, float_precision, storage_options, dtype_backend)\u001b[0m\n\u001b[1;32m   1013\u001b[0m kwds_defaults \u001b[38;5;241m=\u001b[39m _refine_defaults_read(\n\u001b[1;32m   1014\u001b[0m     dialect,\n\u001b[1;32m   1015\u001b[0m     delimiter,\n\u001b[0;32m   (...)\u001b[0m\n\u001b[1;32m   1022\u001b[0m     dtype_backend\u001b[38;5;241m=\u001b[39mdtype_backend,\n\u001b[1;32m   1023\u001b[0m )\n\u001b[1;32m   1024\u001b[0m kwds\u001b[38;5;241m.\u001b[39mupdate(kwds_defaults)\n\u001b[0;32m-> 1026\u001b[0m \u001b[38;5;28;01mreturn\u001b[39;00m \u001b[43m_read\u001b[49m\u001b[43m(\u001b[49m\u001b[43mfilepath_or_buffer\u001b[49m\u001b[43m,\u001b[49m\u001b[43m \u001b[49m\u001b[43mkwds\u001b[49m\u001b[43m)\u001b[49m\n",
      "File \u001b[0;32m/opt/conda/lib/python3.11/site-packages/pandas/io/parsers/readers.py:620\u001b[0m, in \u001b[0;36m_read\u001b[0;34m(filepath_or_buffer, kwds)\u001b[0m\n\u001b[1;32m    617\u001b[0m _validate_names(kwds\u001b[38;5;241m.\u001b[39mget(\u001b[38;5;124m\"\u001b[39m\u001b[38;5;124mnames\u001b[39m\u001b[38;5;124m\"\u001b[39m, \u001b[38;5;28;01mNone\u001b[39;00m))\n\u001b[1;32m    619\u001b[0m \u001b[38;5;66;03m# Create the parser.\u001b[39;00m\n\u001b[0;32m--> 620\u001b[0m parser \u001b[38;5;241m=\u001b[39m \u001b[43mTextFileReader\u001b[49m\u001b[43m(\u001b[49m\u001b[43mfilepath_or_buffer\u001b[49m\u001b[43m,\u001b[49m\u001b[43m \u001b[49m\u001b[38;5;241;43m*\u001b[39;49m\u001b[38;5;241;43m*\u001b[39;49m\u001b[43mkwds\u001b[49m\u001b[43m)\u001b[49m\n\u001b[1;32m    622\u001b[0m \u001b[38;5;28;01mif\u001b[39;00m chunksize \u001b[38;5;129;01mor\u001b[39;00m iterator:\n\u001b[1;32m    623\u001b[0m     \u001b[38;5;28;01mreturn\u001b[39;00m parser\n",
      "File \u001b[0;32m/opt/conda/lib/python3.11/site-packages/pandas/io/parsers/readers.py:1620\u001b[0m, in \u001b[0;36mTextFileReader.__init__\u001b[0;34m(self, f, engine, **kwds)\u001b[0m\n\u001b[1;32m   1617\u001b[0m     \u001b[38;5;28mself\u001b[39m\u001b[38;5;241m.\u001b[39moptions[\u001b[38;5;124m\"\u001b[39m\u001b[38;5;124mhas_index_names\u001b[39m\u001b[38;5;124m\"\u001b[39m] \u001b[38;5;241m=\u001b[39m kwds[\u001b[38;5;124m\"\u001b[39m\u001b[38;5;124mhas_index_names\u001b[39m\u001b[38;5;124m\"\u001b[39m]\n\u001b[1;32m   1619\u001b[0m \u001b[38;5;28mself\u001b[39m\u001b[38;5;241m.\u001b[39mhandles: IOHandles \u001b[38;5;241m|\u001b[39m \u001b[38;5;28;01mNone\u001b[39;00m \u001b[38;5;241m=\u001b[39m \u001b[38;5;28;01mNone\u001b[39;00m\n\u001b[0;32m-> 1620\u001b[0m \u001b[38;5;28mself\u001b[39m\u001b[38;5;241m.\u001b[39m_engine \u001b[38;5;241m=\u001b[39m \u001b[38;5;28;43mself\u001b[39;49m\u001b[38;5;241;43m.\u001b[39;49m\u001b[43m_make_engine\u001b[49m\u001b[43m(\u001b[49m\u001b[43mf\u001b[49m\u001b[43m,\u001b[49m\u001b[43m \u001b[49m\u001b[38;5;28;43mself\u001b[39;49m\u001b[38;5;241;43m.\u001b[39;49m\u001b[43mengine\u001b[49m\u001b[43m)\u001b[49m\n",
      "File \u001b[0;32m/opt/conda/lib/python3.11/site-packages/pandas/io/parsers/readers.py:1880\u001b[0m, in \u001b[0;36mTextFileReader._make_engine\u001b[0;34m(self, f, engine)\u001b[0m\n\u001b[1;32m   1878\u001b[0m     \u001b[38;5;28;01mif\u001b[39;00m \u001b[38;5;124m\"\u001b[39m\u001b[38;5;124mb\u001b[39m\u001b[38;5;124m\"\u001b[39m \u001b[38;5;129;01mnot\u001b[39;00m \u001b[38;5;129;01min\u001b[39;00m mode:\n\u001b[1;32m   1879\u001b[0m         mode \u001b[38;5;241m+\u001b[39m\u001b[38;5;241m=\u001b[39m \u001b[38;5;124m\"\u001b[39m\u001b[38;5;124mb\u001b[39m\u001b[38;5;124m\"\u001b[39m\n\u001b[0;32m-> 1880\u001b[0m \u001b[38;5;28mself\u001b[39m\u001b[38;5;241m.\u001b[39mhandles \u001b[38;5;241m=\u001b[39m \u001b[43mget_handle\u001b[49m\u001b[43m(\u001b[49m\n\u001b[1;32m   1881\u001b[0m \u001b[43m    \u001b[49m\u001b[43mf\u001b[49m\u001b[43m,\u001b[49m\n\u001b[1;32m   1882\u001b[0m \u001b[43m    \u001b[49m\u001b[43mmode\u001b[49m\u001b[43m,\u001b[49m\n\u001b[1;32m   1883\u001b[0m \u001b[43m    \u001b[49m\u001b[43mencoding\u001b[49m\u001b[38;5;241;43m=\u001b[39;49m\u001b[38;5;28;43mself\u001b[39;49m\u001b[38;5;241;43m.\u001b[39;49m\u001b[43moptions\u001b[49m\u001b[38;5;241;43m.\u001b[39;49m\u001b[43mget\u001b[49m\u001b[43m(\u001b[49m\u001b[38;5;124;43m\"\u001b[39;49m\u001b[38;5;124;43mencoding\u001b[39;49m\u001b[38;5;124;43m\"\u001b[39;49m\u001b[43m,\u001b[49m\u001b[43m \u001b[49m\u001b[38;5;28;43;01mNone\u001b[39;49;00m\u001b[43m)\u001b[49m\u001b[43m,\u001b[49m\n\u001b[1;32m   1884\u001b[0m \u001b[43m    \u001b[49m\u001b[43mcompression\u001b[49m\u001b[38;5;241;43m=\u001b[39;49m\u001b[38;5;28;43mself\u001b[39;49m\u001b[38;5;241;43m.\u001b[39;49m\u001b[43moptions\u001b[49m\u001b[38;5;241;43m.\u001b[39;49m\u001b[43mget\u001b[49m\u001b[43m(\u001b[49m\u001b[38;5;124;43m\"\u001b[39;49m\u001b[38;5;124;43mcompression\u001b[39;49m\u001b[38;5;124;43m\"\u001b[39;49m\u001b[43m,\u001b[49m\u001b[43m \u001b[49m\u001b[38;5;28;43;01mNone\u001b[39;49;00m\u001b[43m)\u001b[49m\u001b[43m,\u001b[49m\n\u001b[1;32m   1885\u001b[0m \u001b[43m    \u001b[49m\u001b[43mmemory_map\u001b[49m\u001b[38;5;241;43m=\u001b[39;49m\u001b[38;5;28;43mself\u001b[39;49m\u001b[38;5;241;43m.\u001b[39;49m\u001b[43moptions\u001b[49m\u001b[38;5;241;43m.\u001b[39;49m\u001b[43mget\u001b[49m\u001b[43m(\u001b[49m\u001b[38;5;124;43m\"\u001b[39;49m\u001b[38;5;124;43mmemory_map\u001b[39;49m\u001b[38;5;124;43m\"\u001b[39;49m\u001b[43m,\u001b[49m\u001b[43m \u001b[49m\u001b[38;5;28;43;01mFalse\u001b[39;49;00m\u001b[43m)\u001b[49m\u001b[43m,\u001b[49m\n\u001b[1;32m   1886\u001b[0m \u001b[43m    \u001b[49m\u001b[43mis_text\u001b[49m\u001b[38;5;241;43m=\u001b[39;49m\u001b[43mis_text\u001b[49m\u001b[43m,\u001b[49m\n\u001b[1;32m   1887\u001b[0m \u001b[43m    \u001b[49m\u001b[43merrors\u001b[49m\u001b[38;5;241;43m=\u001b[39;49m\u001b[38;5;28;43mself\u001b[39;49m\u001b[38;5;241;43m.\u001b[39;49m\u001b[43moptions\u001b[49m\u001b[38;5;241;43m.\u001b[39;49m\u001b[43mget\u001b[49m\u001b[43m(\u001b[49m\u001b[38;5;124;43m\"\u001b[39;49m\u001b[38;5;124;43mencoding_errors\u001b[39;49m\u001b[38;5;124;43m\"\u001b[39;49m\u001b[43m,\u001b[49m\u001b[43m \u001b[49m\u001b[38;5;124;43m\"\u001b[39;49m\u001b[38;5;124;43mstrict\u001b[39;49m\u001b[38;5;124;43m\"\u001b[39;49m\u001b[43m)\u001b[49m\u001b[43m,\u001b[49m\n\u001b[1;32m   1888\u001b[0m \u001b[43m    \u001b[49m\u001b[43mstorage_options\u001b[49m\u001b[38;5;241;43m=\u001b[39;49m\u001b[38;5;28;43mself\u001b[39;49m\u001b[38;5;241;43m.\u001b[39;49m\u001b[43moptions\u001b[49m\u001b[38;5;241;43m.\u001b[39;49m\u001b[43mget\u001b[49m\u001b[43m(\u001b[49m\u001b[38;5;124;43m\"\u001b[39;49m\u001b[38;5;124;43mstorage_options\u001b[39;49m\u001b[38;5;124;43m\"\u001b[39;49m\u001b[43m,\u001b[49m\u001b[43m \u001b[49m\u001b[38;5;28;43;01mNone\u001b[39;49;00m\u001b[43m)\u001b[49m\u001b[43m,\u001b[49m\n\u001b[1;32m   1889\u001b[0m \u001b[43m\u001b[49m\u001b[43m)\u001b[49m\n\u001b[1;32m   1890\u001b[0m \u001b[38;5;28;01massert\u001b[39;00m \u001b[38;5;28mself\u001b[39m\u001b[38;5;241m.\u001b[39mhandles \u001b[38;5;129;01mis\u001b[39;00m \u001b[38;5;129;01mnot\u001b[39;00m \u001b[38;5;28;01mNone\u001b[39;00m\n\u001b[1;32m   1891\u001b[0m f \u001b[38;5;241m=\u001b[39m \u001b[38;5;28mself\u001b[39m\u001b[38;5;241m.\u001b[39mhandles\u001b[38;5;241m.\u001b[39mhandle\n",
      "File \u001b[0;32m/opt/conda/lib/python3.11/site-packages/pandas/io/common.py:873\u001b[0m, in \u001b[0;36mget_handle\u001b[0;34m(path_or_buf, mode, encoding, compression, memory_map, is_text, errors, storage_options)\u001b[0m\n\u001b[1;32m    868\u001b[0m \u001b[38;5;28;01melif\u001b[39;00m \u001b[38;5;28misinstance\u001b[39m(handle, \u001b[38;5;28mstr\u001b[39m):\n\u001b[1;32m    869\u001b[0m     \u001b[38;5;66;03m# Check whether the filename is to be opened in binary mode.\u001b[39;00m\n\u001b[1;32m    870\u001b[0m     \u001b[38;5;66;03m# Binary mode does not support 'encoding' and 'newline'.\u001b[39;00m\n\u001b[1;32m    871\u001b[0m     \u001b[38;5;28;01mif\u001b[39;00m ioargs\u001b[38;5;241m.\u001b[39mencoding \u001b[38;5;129;01mand\u001b[39;00m \u001b[38;5;124m\"\u001b[39m\u001b[38;5;124mb\u001b[39m\u001b[38;5;124m\"\u001b[39m \u001b[38;5;129;01mnot\u001b[39;00m \u001b[38;5;129;01min\u001b[39;00m ioargs\u001b[38;5;241m.\u001b[39mmode:\n\u001b[1;32m    872\u001b[0m         \u001b[38;5;66;03m# Encoding\u001b[39;00m\n\u001b[0;32m--> 873\u001b[0m         handle \u001b[38;5;241m=\u001b[39m \u001b[38;5;28mopen\u001b[39m(\n\u001b[1;32m    874\u001b[0m             handle,\n\u001b[1;32m    875\u001b[0m             ioargs\u001b[38;5;241m.\u001b[39mmode,\n\u001b[1;32m    876\u001b[0m             encoding\u001b[38;5;241m=\u001b[39mioargs\u001b[38;5;241m.\u001b[39mencoding,\n\u001b[1;32m    877\u001b[0m             errors\u001b[38;5;241m=\u001b[39merrors,\n\u001b[1;32m    878\u001b[0m             newline\u001b[38;5;241m=\u001b[39m\u001b[38;5;124m\"\u001b[39m\u001b[38;5;124m\"\u001b[39m,\n\u001b[1;32m    879\u001b[0m         )\n\u001b[1;32m    880\u001b[0m     \u001b[38;5;28;01melse\u001b[39;00m:\n\u001b[1;32m    881\u001b[0m         \u001b[38;5;66;03m# Binary mode\u001b[39;00m\n\u001b[1;32m    882\u001b[0m         handle \u001b[38;5;241m=\u001b[39m \u001b[38;5;28mopen\u001b[39m(handle, ioargs\u001b[38;5;241m.\u001b[39mmode)\n",
      "\u001b[0;31mFileNotFoundError\u001b[0m: [Errno 2] No such file or directory: '/home/jovyan/work/transcripciones_frases.csv'"
     ]
    }
   ],
   "source": [
    "import pandas as pd\n",
    "\n",
    "# Ruta al archivo Excel\n",
    "file_path = '/home/jovyan/work/transcripciones_frases.xlsx'\n",
    "\n",
    "# Cargamos el archivo Excel\n",
    "df = pd.read_csv(file_path)\n",
    "\n",
    "# Verificar que las columnas existen\n",
    "assert 'Texto Original' in df.columns, \"La columna 'Texto Original' no existe en el archivo Excel\"\n",
    "assert 'Texto Corregido' in df.columns, \"La columna 'Texto Corregido' no existe en el archivo Excel\"\n",
    "\n",
    "df.head()\n"
   ]
  },
  {
   "cell_type": "markdown",
   "metadata": {},
   "source": [
    "## Dividimos el conjunto de datos en conjuntos de entrenamiento y validación"
   ]
  },
  {
   "cell_type": "code",
   "execution_count": 54,
   "metadata": {},
   "outputs": [
    {
     "data": {
      "text/html": [
       "<div>\n",
       "<style scoped>\n",
       "    .dataframe tbody tr th:only-of-type {\n",
       "        vertical-align: middle;\n",
       "    }\n",
       "\n",
       "    .dataframe tbody tr th {\n",
       "        vertical-align: top;\n",
       "    }\n",
       "\n",
       "    .dataframe thead th {\n",
       "        text-align: right;\n",
       "    }\n",
       "</style>\n",
       "<table border=\"1\" class=\"dataframe\">\n",
       "  <thead>\n",
       "    <tr style=\"text-align: right;\">\n",
       "      <th></th>\n",
       "      <th>Texto Original</th>\n",
       "      <th>Texto Corregido</th>\n",
       "    </tr>\n",
       "  </thead>\n",
       "  <tbody>\n",
       "    <tr>\n",
       "      <th>0</th>\n",
       "      <td>[Música] esto es importante para cada adulto o...</td>\n",
       "      <td>Esto es importante para cada adulto o cada per...</td>\n",
       "    </tr>\n",
       "    <tr>\n",
       "      <th>7</th>\n",
       "      <td>[Música] [Música] [Música] más [Música] voy a ...</td>\n",
       "      <td>Hola, voy a explicarte todo lo que te extraño....</td>\n",
       "    </tr>\n",
       "    <tr>\n",
       "      <th>2</th>\n",
       "      <td>Qué pasa chicos eh estoy aquí un poco a oscura...</td>\n",
       "      <td>¿Qué pasa chicos? Estoy aquí un poco a oscuras...</td>\n",
       "    </tr>\n",
       "    <tr>\n",
       "      <th>4</th>\n",
       "      <td>Estamos en uno de los trenes\\nmás costosos de ...</td>\n",
       "      <td>Estamos en uno de los trenes más costosos de t...</td>\n",
       "    </tr>\n",
       "    <tr>\n",
       "      <th>3</th>\n",
       "      <td>mi gente de Perú qué tal estáis ayer nos queda...</td>\n",
       "      <td>Mi gente de Perú, ¿qué tal estáis? Ayer nos qu...</td>\n",
       "    </tr>\n",
       "  </tbody>\n",
       "</table>\n",
       "</div>"
      ],
      "text/plain": [
       "                                      Texto Original  \\\n",
       "0  [Música] esto es importante para cada adulto o...   \n",
       "7  [Música] [Música] [Música] más [Música] voy a ...   \n",
       "2  Qué pasa chicos eh estoy aquí un poco a oscura...   \n",
       "4  Estamos en uno de los trenes\\nmás costosos de ...   \n",
       "3  mi gente de Perú qué tal estáis ayer nos queda...   \n",
       "\n",
       "                                     Texto Corregido  \n",
       "0  Esto es importante para cada adulto o cada per...  \n",
       "7  Hola, voy a explicarte todo lo que te extraño....  \n",
       "2  ¿Qué pasa chicos? Estoy aquí un poco a oscuras...  \n",
       "4  Estamos en uno de los trenes más costosos de t...  \n",
       "3  Mi gente de Perú, ¿qué tal estáis? Ayer nos qu...  "
      ]
     },
     "execution_count": 54,
     "metadata": {},
     "output_type": "execute_result"
    }
   ],
   "source": [
    "from sklearn.model_selection import train_test_split\n",
    "\n",
    "train_df, val_df = train_test_split(df, test_size=0.2, random_state=42)\n",
    "\n",
    "train_df.head()\n"
   ]
  },
  {
   "cell_type": "markdown",
   "metadata": {},
   "source": [
    "## Usaremos el modelos T5. Tokenizamos antes de introducir el texto en el modelo con T5Tokenizer \n",
    "### Se puede usar 't5-base' o 't5-large' según lo preciso (más tiempo de entrenamiento) que queramos entrenar el modelo "
   ]
  },
  {
   "cell_type": "code",
   "execution_count": 55,
   "metadata": {},
   "outputs": [
    {
     "name": "stderr",
     "output_type": "stream",
     "text": [
      "Special tokens have been added in the vocabulary, make sure the associated word embeddings are fine-tuned or trained.\n"
     ]
    }
   ],
   "source": [
    "from transformers import T5Tokenizer, T5ForConditionalGeneration\n",
    "\n",
    "# Carga el tokenizador y el modelo\n",
    "model_name = 't5-base'  \n",
    "tokenizer = T5Tokenizer.from_pretrained(model_name)\n",
    "model = T5ForConditionalGeneration.from_pretrained(model_name)\n",
    "\n",
    "# Función para tokenizar y preparar los datos\n",
    "def preprocess_data(data, tokenizer, max_len=512):\n",
    "    inputs = [f\"corrija: {text}\" for text in data['Texto Original']]\n",
    "    targets = [text for text in data['Texto Corregido']]\n",
    "    \n",
    "    input_encodings = tokenizer(inputs, truncation=True, padding=True, max_length=max_len)\n",
    "    target_encodings = tokenizer(targets, truncation=True, padding=True, max_length=max_len)\n",
    "    \n",
    "    return {\n",
    "        'input_ids': input_encodings['input_ids'],\n",
    "        'attention_mask': input_encodings['attention_mask'],\n",
    "        'labels': target_encodings['input_ids']\n",
    "    }\n"
   ]
  },
  {
   "cell_type": "markdown",
   "metadata": {},
   "source": [
    "## Creación del Dataset de entrenamiento y validacion"
   ]
  },
  {
   "cell_type": "code",
   "execution_count": 56,
   "metadata": {},
   "outputs": [],
   "source": [
    "# Preprocesar los datos\n",
    "train_encodings = preprocess_data(train_df, tokenizer)\n",
    "val_encodings = preprocess_data(val_df, tokenizer)"
   ]
  },
  {
   "cell_type": "code",
   "execution_count": 57,
   "metadata": {},
   "outputs": [],
   "source": [
    "import torch\n",
    "from torch.utils.data import Dataset\n",
    "\n",
    "# Crear un dataset personalizado para el modelo T5\n",
    "class TextCorrectionDataset(Dataset):\n",
    "    def __init__(self, encodings):\n",
    "        self.encodings = encodings\n",
    "\n",
    "    def __getitem__(self, idx):\n",
    "        item = {key: torch.tensor(val[idx]) for key, val in self.encodings.items()}\n",
    "        return item\n",
    "\n",
    "    def __len__(self):\n",
    "        return len(self.encodings['input_ids'])\n",
    "\n",
    "# Crear datasets de entrenamiento y validación\n",
    "train_dataset = TextCorrectionDataset(train_encodings)\n",
    "val_dataset = TextCorrectionDataset(val_encodings)"
   ]
  },
  {
   "cell_type": "markdown",
   "metadata": {},
   "source": []
  },
  {
   "cell_type": "code",
   "execution_count": 58,
   "metadata": {},
   "outputs": [
    {
     "name": "stderr",
     "output_type": "stream",
     "text": [
      "/opt/conda/lib/python3.11/site-packages/transformers/training_args.py:1494: FutureWarning: `evaluation_strategy` is deprecated and will be removed in version 4.46 of 🤗 Transformers. Use `eval_strategy` instead\n",
      "  warnings.warn(\n"
     ]
    }
   ],
   "source": [
    "from transformers import Trainer, TrainingArguments, T5ForConditionalGeneration\n",
    "\n",
    "# Configurar los argumentos del entrenamiento\n",
    "training_args = TrainingArguments(\n",
    "    output_dir='./results',          # Directorio de salida\n",
    "    num_train_epochs=3,              # Épocas\n",
    "    per_device_train_batch_size=8,   # Tamaño del lote de entrenamiento\n",
    "    per_device_eval_batch_size=8,    # Tamaño del lote de evaluación\n",
    "    warmup_steps=500,                # Pasos de calentamiento\n",
    "    weight_decay=0.01,               # Desintegración del peso\n",
    "    logging_dir='./logs',            # Directorio de logs\n",
    "    evaluation_strategy=\"epoch\",\n",
    "    save_strategy=\"epoch\",\n",
    "    report_to=\"none\",                # Evitar el logging a WandB\n",
    "    fp16=True                        # Habilitar el entrenamiento en punto flotante de 16 bits para mejorar el rendimiento en GPU\n",
    ")\n",
    "\n",
    "# Crear el entrenador\n",
    "trainer = Trainer(\n",
    "    model=model,\n",
    "    args=training_args,\n",
    "    train_dataset=train_dataset,\n",
    "    eval_dataset=val_dataset\n",
    ")\n",
    "\n"
   ]
  },
  {
   "cell_type": "markdown",
   "metadata": {},
   "source": [
    "## Entrenamiento del modelo"
   ]
  },
  {
   "cell_type": "code",
   "execution_count": 59,
   "metadata": {},
   "outputs": [
    {
     "data": {
      "text/html": [
       "\n",
       "    <div>\n",
       "      \n",
       "      <progress value='3' max='3' style='width:300px; height:20px; vertical-align: middle;'></progress>\n",
       "      [3/3 03:24, Epoch 3/3]\n",
       "    </div>\n",
       "    <table border=\"1\" class=\"dataframe\">\n",
       "  <thead>\n",
       " <tr style=\"text-align: left;\">\n",
       "      <th>Epoch</th>\n",
       "      <th>Training Loss</th>\n",
       "      <th>Validation Loss</th>\n",
       "    </tr>\n",
       "  </thead>\n",
       "  <tbody>\n",
       "    <tr>\n",
       "      <td>1</td>\n",
       "      <td>No log</td>\n",
       "      <td>15.453381</td>\n",
       "    </tr>\n",
       "    <tr>\n",
       "      <td>2</td>\n",
       "      <td>No log</td>\n",
       "      <td>15.450224</td>\n",
       "    </tr>\n",
       "    <tr>\n",
       "      <td>3</td>\n",
       "      <td>No log</td>\n",
       "      <td>15.443916</td>\n",
       "    </tr>\n",
       "  </tbody>\n",
       "</table><p>"
      ],
      "text/plain": [
       "<IPython.core.display.HTML object>"
      ]
     },
     "metadata": {},
     "output_type": "display_data"
    },
    {
     "data": {
      "text/plain": [
       "TrainOutput(global_step=3, training_loss=14.281431833902994, metrics={'train_runtime': 270.1296, 'train_samples_per_second': 0.067, 'train_steps_per_second': 0.011, 'total_flos': 10961242030080.0, 'train_loss': 14.281431833902994, 'epoch': 3.0})"
      ]
     },
     "execution_count": 59,
     "metadata": {},
     "output_type": "execute_result"
    }
   ],
   "source": [
    "# Entrenamiento del modelo\n",
    "device = torch.device('cuda' if torch.cuda.is_available() else 'cpu')\n",
    "model.to(device)\n",
    "\n",
    "# Iniciar el entrenamiento\n",
    "trainer.train()"
   ]
  },
  {
   "cell_type": "markdown",
   "metadata": {},
   "source": [
    "# Evaluación del modelo\n",
    "\n"
   ]
  },
  {
   "cell_type": "code",
   "execution_count": 60,
   "metadata": {},
   "outputs": [
    {
     "name": "stdout",
     "output_type": "stream",
     "text": [
      "Ejemplo de input_ids: [[4301, 22276, 9, 10, 784, 329, 2, 7, 2617, 908, 259, 32, 3, 15, 7, 7158, 3856, 3, 17436, 3165, 32, 3, 32, 3, 17436, 568, 9, 238, 20, 10301, 2002, 32, 142, 108, 295, 9, 3165, 9, 5569, 835, 14124, 9, 3, 15, 40, 2202, 20, 73, 25506, 32, 3, 35, 3, 15, 40, 238, 9489, 15, 3972, 1870, 291, 44, 52, 2975, 7, 3, 63, 3, 7290, 49, 291, 150, 5394, 23, 4922, 12, 26, 32, 3, 287, 32, 238, 52, 2, 9, 3972, 7683, 15, 73, 8524, 35, 3, 9, 2, 32, 231, 32, 3, 28061, 7158, 3, 9, 2, 29, 50, 554, 122, 14016, 238, 2844, 3, 35, 509, 397, 3, 15, 40, 576, 7275, 15742, 5569, 835, 2844, 836, 1122, 883, 4557, 9, 399, 32, 30738, 23, 154, 29, 3, 2720, 26, 32, 3, 75, 4922, 51, 32, 7637, 2975, 3, 15, 40, 3, 9, 2, 32, 238, 3, 287, 23, 35, 1629, 3, 9, 6899, 13332, 32, 20, 249, 420, 548, 2975, 7, 3, 60, 17, 9300, 7664, 3, 7, 22881, 7108, 15, 75, 2, 9, 7, 4035, 63, 29404, 7923, 9, 7, 12, 7664, 6377, 77, 14073, 5569, 10381, 3, 28061, 3, 17962, 813, 23414, 7, 20, 50, 936, 15644, 3, 17, 15, 554, 1926, 839, 238, 4055, 9, 3, 9, 5291, 35, 4915, 10381, 4880, 4922, 226, 23, 3972, 21167, 32, 7, 4353, 15, 537, 7637, 3, 17, 152, 93, 15, 4339, 4557, 7923, 3, 287, 32, 3, 35, 75, 603, 9, 3, 15, 7, 4343, 76, 172, 29, 8386, 13422, 2975, 2206, 4035, 63, 923, 5569, 835, 259, 9, 7, 520, 3, 7, 22881, 7108, 15, 75, 2, 9, 7, 29404, 7923, 9, 7, 3856, 3, 15, 40, 3, 9, 2, 32, 460, 2266, 3, 29, 2, 935, 32, 3, 7, 22881, 15717, 9334, 23, 260, 52, 2960, 20694, 7683, 15, 73, 2377, 9, 3, 9917, 77, 32, 238, 3, 29, 4268, 4922, 3, 35, 3, 30414, 1761, 15, 7, 3, 35, 3, 15, 40, 3, 9, 2, 32, 507, 3916, 17184, 1590, 15, 75, 23, 4922, 3, 9, 50, 3, 15, 14677, 20, 3, 3959, 3, 9, 2, 32, 7, 249, 3, 107, 15729, 3, 15, 7, 3731, 146, 7664, 3, 15, 40, 2377, 9, 3, 28061, 3, 23862, 3027, 23, 26, 32, 3, 35, 50, 3, 107, 17905, 20, 17946, 5569, 73, 650, 5609, 32, 73, 9, 12480, 20, 1227, 3007, 1927, 7, 784, 329, 2, 7, 2617, 908, 7108, 17678, 509, 7, 6590, 172, 2975, 3, 15, 40, 813, 23414, 140, 4844, 975, 32, 10812, 32, 20, 259, 9, 570, 9, 260, 52, 2960, 20694, 3, 15, 7, 23082, 19042, 3731, 10960, 8240, 32, 5569, 231, 9, 7, 568, 9, 7, 3, 35, 17946, 3, 63, 185, 29, 835, 1990, 23, 108, 150, 142, 1076, 20013, 35, 10381, 5569, 904, 14846, 20, 2629, 23786, 9, 26, 2740, 1621, 73, 9, 3, 6961, 9, 4035, 63, 13656, 15, 5569, 3, 15, 1924, 51, 7379, 3, 9, 10381, 460, 3, 9, 2, 32, 7, 6571, 8699, 2010, 52, 3, 324, 23, 1]]\n",
      "Ejemplo de labels: [[7545, 32, 3, 15, 7, 7158, 3856, 3, 17436, 3165, 32, 3, 32, 3, 17436, 568, 9, 238, 20, 10301, 2002, 32, 142, 108, 295, 9, 3165, 9, 5569, 835, 14124, 9, 3, 15, 40, 2202, 20, 73, 25506, 32, 3, 35, 3, 15, 40, 238, 9489, 15, 3972, 1870, 291, 44, 52, 2975, 7, 3, 63, 3, 7290, 49, 291, 5, 465, 5394, 23, 4922, 12, 26, 32, 3, 287, 32, 238, 52, 2, 9, 3972, 6, 7683, 15, 73, 8524, 35, 3, 9, 2, 32, 5, 8718, 32, 3, 28061, 7158, 3, 9, 2, 29, 6, 50, 554, 122, 14016, 238, 2844, 3, 35, 509, 397, 3, 15, 40, 576, 7275, 15742, 5569, 835, 2844, 836, 3, 15, 4339, 4557, 9, 399, 32, 30738, 23, 154, 29, 3, 2720, 26, 32, 10, 3, 2, 254, 4922, 51, 32, 7637, 2975, 3, 15, 40, 3, 9, 2, 32, 238, 3, 287, 23, 35, 1629, 58, 71, 6899, 13332, 32, 20, 249, 420, 548, 2975, 7, 3, 60, 17, 9300, 7664, 3, 7, 22881, 7108, 15, 75, 2, 9, 7, 4035, 63, 29404, 7923, 9, 7, 6, 12, 7664, 6377, 23, 18089, 7, 5569, 10381, 3, 28061, 3, 17962, 813, 23414, 7, 20, 50, 936, 15644, 5, 2255, 554, 1926, 839, 6, 238, 4055, 9, 3, 9, 5291, 35, 4915, 6, 10381, 4880, 4922, 226, 23, 3972, 21167, 32, 7, 4353, 15, 537, 7637, 3, 17, 152, 93, 15, 4339, 4557, 10097, 7, 3, 287, 32, 3, 35, 75, 603, 9, 3, 15, 7, 4343, 76, 172, 29, 8386, 5, 1266, 102, 2975, 2206, 4035, 63, 923, 5569, 835, 259, 9, 7, 520, 3, 7, 22881, 7108, 15, 75, 2, 9, 7, 29404, 7923, 9, 7, 3856, 3, 15, 40, 3, 9, 2, 32, 460, 2266, 5, 445, 2, 935, 32, 3, 7, 22881, 10, 15717, 9334, 23, 2180, 52, 2960, 20694, 7683, 15, 73, 2377, 9, 3, 9917, 77, 32, 238, 3, 29, 4268, 4922, 3, 35, 3, 30414, 1761, 15, 7, 3, 35, 3, 15, 40, 3, 9, 2, 32, 507, 3916, 3, 63, 1590, 15, 75, 23, 4922, 3, 35, 17184, 3, 9, 50, 3, 15, 14677, 20, 3, 3959, 3, 9, 2, 32, 7, 5, 2972, 3, 107, 15729, 3, 15, 7, 6, 3731, 146, 7664, 6, 3, 15, 40, 2377, 9, 3, 28061, 3, 23862, 3027, 23, 26, 32, 3, 35, 50, 3, 107, 17905, 20, 17946, 5569, 73, 650, 5609, 32, 10, 73, 9, 12480, 20, 1227, 3007, 1927, 7, 7108, 17678, 509, 7, 5, 6590, 172, 2975, 3, 15, 40, 813, 23414, 140, 4844, 975, 32, 10812, 32, 20, 259, 9, 570, 9, 6, 2180, 52, 2960, 20694, 3, 15, 7, 23082, 19042, 6, 3731, 10960, 8240, 32, 6, 5569, 231, 9, 7, 568, 9, 7, 3, 35, 17946, 3, 63, 185, 29, 835, 1990, 23, 150, 142, 1076, 20013, 35, 10381, 5569, 904, 14846, 20, 2629, 23786, 9, 26, 6, 3, 17, 76, 1621, 73, 9, 3, 6961, 9, 4035, 63, 13656, 15, 5, 9731, 3, 15, 1924, 51, 7379, 6, 3, 9, 1]]\n"
     ]
    }
   ],
   "source": [
    "# Verificar los datos tokenizados\n",
    "print(\"Ejemplo de input_ids:\", train_encodings['input_ids'][:1])\n",
    "print(\"Ejemplo de labels:\", train_encodings['labels'][:1])"
   ]
  },
  {
   "cell_type": "code",
   "execution_count": 61,
   "metadata": {},
   "outputs": [
    {
     "name": "stdout",
     "output_type": "stream",
     "text": [
      "[{'eval_loss': 15.453380584716797, 'eval_runtime': 2.023, 'eval_samples_per_second': 0.989, 'eval_steps_per_second': 0.494, 'epoch': 1.0, 'step': 1}, {'eval_loss': 15.450223922729492, 'eval_runtime': 3.0415, 'eval_samples_per_second': 0.658, 'eval_steps_per_second': 0.329, 'epoch': 2.0, 'step': 2}, {'eval_loss': 15.443916320800781, 'eval_runtime': 1.8716, 'eval_samples_per_second': 1.069, 'eval_steps_per_second': 0.534, 'epoch': 3.0, 'step': 3}, {'train_runtime': 270.1296, 'train_samples_per_second': 0.067, 'train_steps_per_second': 0.011, 'total_flos': 10961242030080.0, 'train_loss': 14.281431833902994, 'epoch': 3.0, 'step': 3}]\n"
     ]
    }
   ],
   "source": [
    "# Verificar el proceso de entrenamiento\n",
    "print(trainer.state.log_history)\n"
   ]
  },
  {
   "cell_type": "code",
   "execution_count": 62,
   "metadata": {},
   "outputs": [
    {
     "data": {
      "text/html": [],
      "text/plain": [
       "<IPython.core.display.HTML object>"
      ]
     },
     "metadata": {},
     "output_type": "display_data"
    },
    {
     "name": "stdout",
     "output_type": "stream",
     "text": [
      "Predicciones des-tokenizadas: ['hice un top al respecto hace muchos aos y leer los comentarios de personas con el don de la imaginación a quienes se les retorcan las tripas poniéndose en el lugar de las personas que sufrieron aquellas s ad  usó placer por eso  hetescadidciónción', 'é tal  eazonado con tinta con el sabor de las noticias del da de hoy  y madre güey  hay carriles t com com  y ssazo [igagos bien igas bien venidos,a una edición más de luisillo el gordillo  esta ocasión nos hemosede']\n",
      "Etiquetas reales des-tokenizadas: ['ya hice un top al respecto hace muchos aos y leer los comentarios de personas con el don de la imaginación a quienes se les retorcan las tripas poniéndose en el lugar de las personas que sufrieron aquellas horribles situaciones me causó placer. por eso, he aqu la secuela, una an mucho más grotesca que el primer top. lo que verás a continuación, todo peor que las más sórdidas pelculas de horror y gore actuales, lo sufrieron seres humanos reales y como sus semejantes, es lo mnimo que nosotros, desde la comodidad de donde estemos, podemos hacer: darle sentido solemne a sus muertes, tratando de ponernos en el lugar de aquellos quienes sufrieron las siete peores ejecuciones jamás concebidas por el ser humano. el método de ejecución que abre este top se inauguró en alabama, estados unidos, en enero de 2024 para matar al condenado a muerte llamado kenneth eugene. basado en los informes de personas que vieron morir al seor smith, el medio bbc describió la ejecución de la siguiente manera: \"los testigos observaron de dos a cuatro minutos de contorsiones y unos 5 minutos de respiración agitada antes de que fuera declarado muerto a las 20 horas con 25 minutos hora local\". respirar n', 'qué tal, sazonado con tinta con el sabor de las noticias del da de hoy. a la madre güey, hay carriles. t! ay s! amigos, amigas, bienvenidos a una edición más de luisillo el gordillo. en esta ocasión nos hemos transportado al pas, qué digo pas, al subcontinente de india, un pas masivo, caótico, con muchsima cultura, muchsima tradición en donde, por supuesto, la comida deliciosa, engordante, callejera no puede faltar. por todas las calles hay puestitos de cientos de platillos diferentes. la variedad gastronómica callejera en este pas es tan amplia que en este vdeo no vamos a abarcar ni un 5% de todo lo que hay, pero vamos a intentarlo, vamos a degustar, vamos a devorar, claro que s. como siempre, vamos a engordar. por lo que hemos visto en nuestra estada en india, la comida suele ser muy barata y suele ser sobre todo muy picante. les aseguro que 9 de cada 10 platillos que ustedes coman en india van a picar y van a picar en serio. por mucho que los locales les digan: \"ah, pica poquito, pica poquito\", no, tu boca va a estar en fuego, vas a acabar todo bombón con los labios hinchados. entonces, bueno, suficiente introducción']\n"
     ]
    }
   ],
   "source": [
    "# Generar predicciones para el conjunto de validación\n",
    "predictions = trainer.predict(val_dataset)\n",
    "\n",
    "# Verificar las predicciones\n",
    "print(\"Predicciones des-tokenizadas:\", pred_texts[:5])\n",
    "print(\"Etiquetas reales des-tokenizadas:\", label_texts[:5])"
   ]
  },
  {
   "cell_type": "code",
   "execution_count": 63,
   "metadata": {},
   "outputs": [
    {
     "data": {
      "text/html": [],
      "text/plain": [
       "<IPython.core.display.HTML object>"
      ]
     },
     "metadata": {},
     "output_type": "display_data"
    },
    {
     "name": "stdout",
     "output_type": "stream",
     "text": [
      "Resultados de la evaluación: {'eval_loss': 15.443916320800781, 'eval_runtime': 2.8135, 'eval_samples_per_second': 0.711, 'eval_steps_per_second': 0.355, 'epoch': 3.0}\n"
     ]
    }
   ],
   "source": [
    "\n",
    "# Evaluación del modelo\n",
    "eval_results = trainer.evaluate()\n",
    "print(f\"Resultados de la evaluación: {eval_results}\")"
   ]
  },
  {
   "cell_type": "code",
   "execution_count": 64,
   "metadata": {},
   "outputs": [
    {
     "name": "stdout",
     "output_type": "stream",
     "text": [
      "Tipo de predictions.predictions: <class 'tuple'>\n",
      "Número de elementos en predictions.predictions: 2\n",
      "Ejemplo de logits: [[-32.163067  -29.19463   -28.127296  ... -69.58027   -69.56299\n",
      "  -69.74524  ]\n",
      " [-16.972902  -10.058041   -7.5320764 ... -37.781715  -37.854073\n",
      "  -37.925556 ]\n",
      " [-28.785854  -14.288473   -6.617447  ... -38.134148  -38.245087\n",
      "  -38.173817 ]\n",
      " [-34.18417   -17.636963   -9.58375   ... -46.088306  -46.104504\n",
      "  -45.943398 ]\n",
      " [-18.926008  -11.6651125  -9.343887  ... -42.150307  -42.1697\n",
      "  -42.32402  ]]\n",
      "Longitud de pred_texts: 2\n",
      "Longitud de label_texts: 2\n",
      "Predicciones des-tokenizadas: ['hice un top al respecto hace muchos aos y leer los comentarios de personas que el don de la imaginación yquelenes su le suretorcan las tripas poniéndose en el lugar de s personas que sufrieron aquelloss s aciones  usó placer por  eso  e', 'é tal  eazonado con tinta con el sabor de las noticias de ho da de hoy  y madre güey  hay carriles  A Ty St  igagos am igas  venidos a un pa edición más lisillo el Gordillo   Indiaa ocasión nos s']\n",
      "Etiquetas reales des-tokenizadas: ['Ya hice un top al respecto hace muchos aos y leer los comentarios de personas con el don de la imaginación a quienes se les retorcan las tripas poniéndose en el lugar de las personas que sufrieron aquellas horribles situaciones me causó placer. Por eso, he aqu la secuela, una an mucho más grotesca que el primer top. Lo que verás a continuación, todo peor que las más sórdidas pelculas de horror y gore actuales, lo sufrieron seres humanos reales y como sus semejantes, es lo mnimo que nosotros, desde la comodidad de donde estemos, podemos hacer: darle sentido solemne a sus muertes, tratando de ponernos en el lugar de aquellos quienes sufrieron las siete peores ejecuciones jamás concebidas por el ser humano. El método de ejecución que abre este top se inauguró en Alabama, Estados Unidos, en enero de 2024 para matar al condenado a muerte llamado Kenneth Eugene. Basado en los informes de personas que vieron morir al seor Smith, el medio BBC describió la ejecución de la siguiente manera: \"Los testigos observaron de dos a cuatro minutos de contorsiones y unos 5 minutos de respiración agitada antes de que fuera declarado muerto a las 20 horas con 25 minutos hora local\". Respirar n', 'Qué tal, sazonado con tinta con el sabor de las noticias del da de hoy. A la madre güey, hay carriles. T! Ay s! Amigos, amigas, bienvenidos a una edición más de Luisillo el Gordillo. En esta ocasión nos hemos transportado al pas, qué digo pas, al subcontinente de India, un pas masivo, caótico, con muchsima cultura, muchsima tradición en donde, por supuesto, la comida deliciosa, engordante, callejera no puede faltar. Por todas las calles hay puestitos de cientos de platillos diferentes. La variedad gastronómica callejera en este pas es tan amplia que en este vdeo no vamos a abarcar ni un 5% de todo lo que hay, pero vamos a intentarlo, vamos a degustar, vamos a devorar, claro que s. Como siempre, vamos a engordar. Por lo que hemos visto en nuestra estada en India, la comida suele ser muy barata y suele ser sobre todo muy picante. Les aseguro que 9 de cada 10 platillos que ustedes coman en India van a picar y van a picar en serio. Por mucho que los locales les digan: \"Ah, pica poquito, pica poquito\", no, tu boca va a estar en fuego, vas a acabar todo bombón con los labios hinchados. Entonces, bueno, suficiente introducción']\n",
      "Predicción: hice un top al respecto hace muchos aos y leer los comentarios de personas que el don de la imaginación yquelenes su le suretorcan las tripas poniéndose en el lugar de s personas que sufrieron aquelloss s aciones  usó placer por  eso  e\n",
      "Etiqueta: ya hice un top al respecto hace muchos aos y leer los comentarios de personas con el don de la imaginación a quienes se les retorcan las tripas poniéndose en el lugar de las personas que sufrieron aquellas horribles situaciones me causó placer. por eso, he aqu la secuela, una an mucho más grotesca que el primer top. lo que verás a continuación, todo peor que las más sórdidas pelculas de horror y gore actuales, lo sufrieron seres humanos reales y como sus semejantes, es lo mnimo que nosotros, desde la comodidad de donde estemos, podemos hacer: darle sentido solemne a sus muertes, tratando de ponernos en el lugar de aquellos quienes sufrieron las siete peores ejecuciones jamás concebidas por el ser humano. el método de ejecución que abre este top se inauguró en alabama, estados unidos, en enero de 2024 para matar al condenado a muerte llamado kenneth eugene. basado en los informes de personas que vieron morir al seor smith, el medio bbc describió la ejecución de la siguiente manera: \"los testigos observaron de dos a cuatro minutos de contorsiones y unos 5 minutos de respiración agitada antes de que fuera declarado muerto a las 20 horas con 25 minutos hora local\". respirar n\n",
      "Predicción: é tal  eazonado con tinta con el sabor de las noticias de ho da de hoy  y madre güey  hay carriles  a ty st  igagos am igas  venidos a un pa edición más lisillo el gordillo   indiaa ocasión nos s\n",
      "Etiqueta: qué tal, sazonado con tinta con el sabor de las noticias del da de hoy. a la madre güey, hay carriles. t! ay s! amigos, amigas, bienvenidos a una edición más de luisillo el gordillo. en esta ocasión nos hemos transportado al pas, qué digo pas, al subcontinente de india, un pas masivo, caótico, con muchsima cultura, muchsima tradición en donde, por supuesto, la comida deliciosa, engordante, callejera no puede faltar. por todas las calles hay puestitos de cientos de platillos diferentes. la variedad gastronómica callejera en este pas es tan amplia que en este vdeo no vamos a abarcar ni un 5% de todo lo que hay, pero vamos a intentarlo, vamos a degustar, vamos a devorar, claro que s. como siempre, vamos a engordar. por lo que hemos visto en nuestra estada en india, la comida suele ser muy barata y suele ser sobre todo muy picante. les aseguro que 9 de cada 10 platillos que ustedes coman en india van a picar y van a picar en serio. por mucho que los locales les digan: \"ah, pica poquito, pica poquito\", no, tu boca va a estar en fuego, vas a acabar todo bombón con los labios hinchados. entonces, bueno, suficiente introducción\n"
     ]
    }
   ],
   "source": [
    "# Generar predicciones para el conjunto de validación\n",
    "predictions = trainer.predict(val_dataset)\n",
    "\n",
    "# Verificar la estructura de las predicciones\n",
    "print(\"Tipo de predictions.predictions:\", type(predictions.predictions))\n",
    "print(\"Número de elementos en predictions.predictions:\", len(predictions.predictions))\n",
    "\n",
    "# Desglosar la tupla\n",
    "logits = predictions.predictions[0] if isinstance(predictions.predictions, tuple) else predictions.predictions\n",
    "\n",
    "# Convertir las predicciones a enteros usando argmax\n",
    "pred_ids = logits.argmax(axis=-1)\n",
    "\n",
    "# Verificar el contenido de las predicciones\n",
    "print(\"Ejemplo de logits:\", logits[0][:5])\n",
    "\n",
    "# Des-tokenizar las predicciones y las etiquetas reales\n",
    "pred_texts = tokenizer.batch_decode(pred_ids, skip_special_tokens=True)\n",
    "label_texts = tokenizer.batch_decode(predictions.label_ids, skip_special_tokens=True)\n",
    "\n",
    "# Verificar las longitudes de pred_texts y label_texts\n",
    "print(f\"Longitud de pred_texts: {len(pred_texts)}\")\n",
    "print(f\"Longitud de label_texts: {len(label_texts)}\")\n",
    "\n",
    "# Verificar las predicciones y etiquetas des-tokenizadas\n",
    "print(\"Predicciones des-tokenizadas:\", pred_texts[:5])\n",
    "print(\"Etiquetas reales des-tokenizadas:\", label_texts[:5])\n",
    "\n",
    "# Asegurarse de que los datos estén correctamente preparados\n",
    "# Eliminar espacios en blanco y convertir a minúsculas para evitar errores de comparación\n",
    "pred_texts = [text.strip().lower() for text in pred_texts]\n",
    "label_texts = [text.strip().lower() for text in label_texts]\n",
    "\n",
    "# Imprimir ejemplos para verificar la alineación (hasta un máximo de la longitud mínima)\n",
    "for i in range(min(5, len(pred_texts), len(label_texts))):\n",
    "    print(f\"Predicción: {pred_texts[i]}\")\n",
    "    print(f\"Etiqueta: {label_texts[i]}\")"
   ]
  },
  {
   "cell_type": "code",
   "execution_count": 65,
   "metadata": {},
   "outputs": [
    {
     "name": "stdout",
     "output_type": "stream",
     "text": [
      "Accuracy: 0.0\n",
      "Precision: 0.0\n",
      "Recall: 0.0\n",
      "F1 Score: 0.0\n"
     ]
    },
    {
     "name": "stderr",
     "output_type": "stream",
     "text": [
      "/opt/conda/lib/python3.11/site-packages/sklearn/metrics/_classification.py:1517: UndefinedMetricWarning: Precision is ill-defined and being set to 0.0 in labels with no predicted samples. Use `zero_division` parameter to control this behavior.\n",
      "  _warn_prf(average, modifier, f\"{metric.capitalize()} is\", len(result))\n",
      "/opt/conda/lib/python3.11/site-packages/sklearn/metrics/_classification.py:1517: UndefinedMetricWarning: Recall is ill-defined and being set to 0.0 in labels with no true samples. Use `zero_division` parameter to control this behavior.\n",
      "  _warn_prf(average, modifier, f\"{metric.capitalize()} is\", len(result))\n"
     ]
    }
   ],
   "source": [
    "# Calcular las métricas de evaluación\n",
    "from sklearn.metrics import accuracy_score, precision_score, recall_score, f1_score, confusion_matrix\n",
    "\n",
    "accuracy = accuracy_score(label_texts, pred_texts)\n",
    "precision = precision_score(label_texts, pred_texts, average='weighted')\n",
    "recall = recall_score(label_texts, pred_texts, average='weighted')\n",
    "f1 = f1_score(label_texts, pred_texts, average='weighted')\n",
    "\n",
    "print(f\"Accuracy: {accuracy}\")\n",
    "print(f\"Precision: {precision}\")\n",
    "print(f\"Recall: {recall}\")\n",
    "print(f\"F1 Score: {f1}\")"
   ]
  },
  {
   "cell_type": "code",
   "execution_count": 66,
   "metadata": {},
   "outputs": [
    {
     "data": {
      "image/png": "[encoded data removed]",
      "text/plain": [
       "<Figure size 1000x800 with 2 Axes>"
      ]
     },
     "metadata": {},
     "output_type": "display_data"
    }
   ],
   "source": [
    "\n",
    "# Generar la matriz de confusión\n",
    "conf_matrix = confusion_matrix(label_texts, pred_texts)\n",
    "\n",
    "import seaborn as sns\n",
    "import matplotlib.pyplot as plt\n",
    "\n",
    "plt.figure(figsize=(10, 8))\n",
    "sns.heatmap(conf_matrix, annot=True, fmt='d', cmap='Blues')\n",
    "plt.xlabel('Predicted')\n",
    "plt.ylabel('Actual')\n",
    "plt.title('Matriz de Confusión')\n",
    "plt.show()\n"
   ]
  },
  {
   "cell_type": "code",
   "execution_count": 67,
   "metadata": {},
   "outputs": [],
   "source": [
    "# Almacenamos el modelo entrenado\n",
    "# model.save_pretrained('/home/jovyan/work/modelo_corregido')\n",
    "# tokenizer.save_pretrained('/home/jovyan/work/modelo_corregido')\n"
   ]
  }
 ],
 "metadata": {
  "kernelspec": {
   "display_name": "Python 3 (ipykernel)",
   "language": "python",
   "name": "python3"
  },
  "language_info": {
   "codemirror_mode": {
    "name": "ipython",
    "version": 3
   },
   "file_extension": ".py",
   "mimetype": "text/x-python",
   "name": "python",
   "nbconvert_exporter": "python",
   "pygments_lexer": "ipython3",
   "version": "3.11.6"
  }
 },
 "nbformat": 4,
 "nbformat_minor": 2
}
