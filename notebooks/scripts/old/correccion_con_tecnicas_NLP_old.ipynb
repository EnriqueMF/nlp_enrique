{
 "cells": [
  {
   "cell_type": "markdown",
   "metadata": {},
   "source": [
    "## Ejecutamos el script para obtener las transcripciones"
   ]
  },
  {
   "cell_type": "markdown",
   "metadata": {},
   "source": [
    "#### Importar transcripcines"
   ]
  },
  {
   "cell_type": "code",
   "execution_count": 1,
   "metadata": {},
   "outputs": [
    {
     "name": "stdout",
     "output_type": "stream",
     "text": [
      "Transcripciones extraidas correctamente y guardadas en la carpeta 'transcripciones' (en la carpeta de notebooks).\n"
     ]
    }
   ],
   "source": [
    "import os\n",
    "\n",
    "# Ejecutamos el script crear_transcripciones.py\n",
    "%run /home/jovyan/work/scripts/crear_transcripciones.py\n",
    "\n",
    "# Para listar archivos en el directorio actual\n",
    "# print(\"Archivos en el directorio actual:\")\n",
    "# print(os.listdir('/home/jovyan/work'))\n"
   ]
  },
  {
   "cell_type": "code",
   "execution_count": 2,
   "metadata": {},
   "outputs": [],
   "source": [
    "import os\n",
    "import re\n",
    "from bs4 import BeautifulSoup\n",
    "from num2words import num2words\n",
    "\n",
    "def clean_text(text):\n",
    "    # Eliminar etiquetas HTML\n",
    "    soup = BeautifulSoup(text, \"html.parser\")\n",
    "    text = soup.get_text()\n",
    "    # Eliminar los sonidos externos entre corchetes\n",
    "    text = re.sub(r'\\[.*?\\]', '', text)\n",
    "    # Eliminar los sonidos externos marcados con *\n",
    "    text = re.sub(r'\\*.*?\\*', '', text)\n",
    "    # Eliminar los sonidos externos entre paréntesis\n",
    "    text = re.sub(r'\\(.*?\\)', '', text)\n",
    "    # Convertir números a texto en español\n",
    "    text = re.sub(r'\\d+', lambda x: num2words(int(x.group()), lang='es'), text)\n",
    "    # Eliminar caracteres especiales\n",
    "    text = re.sub(r'[^A-Za-záéíóúüñÁÉÍÓÚÜÑ\\s]', '', text)\n",
    "    # Eliminar múltiples espacios en blanco\n",
    "    text = re.sub(r'\\s+', ' ', text).strip()\n",
    "    return text\n",
    "\n",
    "input_directory = '/home/jovyan/work/data/transcripciones'\n",
    "output_directory = '/home/jovyan/work/data/cleaned'\n",
    "\n",
    "# Guardamos los archivos\n",
    "if not os.path.exists(output_directory):\n",
    "    os.makedirs(output_directory)\n",
    "    \n",
    "for filename in os.listdir(input_directory):\n",
    "    if filename.endswith('.txt'):\n",
    "        with open(os.path.join(input_directory, filename), 'r', encoding='utf-8') as file:\n",
    "            text = file.read()\n",
    "            cleaned_text = clean_text(text)\n",
    "            with open(os.path.join(output_directory, filename), 'w', encoding='utf-8') as out_file:\n",
    "                out_file.write(cleaned_text)\n"
   ]
  },
  {
   "cell_type": "markdown",
   "metadata": {},
   "source": [
    "## Normalizacion"
   ]
  },
  {
   "cell_type": "code",
   "execution_count": 3,
   "metadata": {},
   "outputs": [],
   "source": [
    "\n",
    "import os\n",
    "import re\n",
    "\n",
    "def normalize(text):\n",
    "    # Convertir a minúsculas\n",
    "    text = text.lower()\n",
    "    # Eliminar caracteres especiales pero conservar letras acentuadas, espacios y signos de puntuación básicos\n",
    "    text = re.sub(r'[^a-záéíóúüñ\\s.,]', '', text)\n",
    "    return text\n",
    "\n",
    "input_directory = '/home/jovyan/work/data/cleaned'\n",
    "output_directory = '/home/jovyan/work/data/normalized'\n",
    "\n",
    "# Guardamos los archivos\n",
    "if not os.path.exists(output_directory):\n",
    "    os.makedirs(output_directory)\n",
    "\n",
    "for filename in os.listdir(input_directory):\n",
    "    if filename.endswith('.txt'):\n",
    "        with open(os.path.join(input_directory, filename), 'r', encoding='utf-8') as file:\n",
    "            text = file.read()\n",
    "            normalized_text = normalize(text)\n",
    "            with open(os.path.join(output_directory, filename), 'w', encoding='utf-8') as out_file:\n",
    "                out_file.write(normalized_text)\n"
   ]
  },
  {
   "cell_type": "markdown",
   "metadata": {},
   "source": [
    "## Corrección ortográfica"
   ]
  },
  {
   "cell_type": "code",
   "execution_count": 10,
   "metadata": {},
   "outputs": [
    {
     "name": "stdout",
     "output_type": "stream",
     "text": [
      "Procesando archivo: El Rubius_Q0xVOwNmx9w.txt\n",
      "Contenido original: mi gente de perú qué tal estáis ayer nos quedamos bueno el otro día nos quedamos eh hostias es el ca\n",
      "['mi', 'gente', 'de', 'perú', 'que', 'tal', 'estas', 'ayer', 'nos', 'bueno', 'el', 'otro', 'día', 'nos', 'eh', 'hostia', 'es', 'el', 'caballo', 'vale', 'eh', 'no', 'ha', 'tiempo', 'para', 'interés', 'ha', 'que', 'buscar', 'a', 'a', 'don', 'ramón', 'que', 'esto', 'perdido', 'en', 'el', 'mar', 'eh', 'espera', 'que', 'liga', 'vivo', 'por', 'favor', 'que', 'esto', 'vivo', 'no', 'se', 'por', 'que', 'me', 'he', 'jurado', 'la', 'vida', 'por', 'un', 'barco', 'la', 'verdad', 'cuando', 'es', 'casi', 'gratis', 'de', 'hacer', 'pero', 'vale', 'donde', 'me', 'deja', 'a', 'rabón', 'tenso', 'que', 'volver', 'a', 'casa', 'eh', 'hoy', 'tenso', 'nos', 'planeo', 'increíble', 'vale', 'os', 'hoy', 'a', 'comentar', 'mientras', 'buscador', 'a', 'ramón', 'don', 'ramón', 'por', 'favor', 'don', 'ramón', 'dije', 'que', 'estas', 'bien', 'dije', 'que', 'estas', 'bien', 'eso', 'que', 'es', 'amos', 'no', 'no', 'quieto', 'otra', 'ya', 'no', 'quieto', 'más', 'hasta', 'que', 'esto', 'y', 'hoy', 'es', 'el', 'plan', 'poner', 'vale', 'eso', 'por', 'una', 'parte', 'y', 'por', 'otra', 'parte', 'buscar', 'una', 'ajolote', 'que', 'me', 'tenis', 'que', 'ayudar', 'a', 'buscar', 'uno', 'porque', 'nunca', 'he', 'tejido', 'una', 'pelota', 'en', 'y', 'es', 'mi', 'sueño', 'desde', 'que', 'son', 'chiquito', 'así', 'que', 'me', 'tenis', 'que', 'ayudar', 'por', 'favor', 'esto', 'es', 'esto', 'es', 'esto', 'es', 'el', 'río', 'es', 'es', 'el', 'río', 'de', 'don', 'ramón', 'a', 'lo', 'mejor', 'las', 'cosa', 'nombrada', 'salón', 'el', 'mapa', 'eh', 'eh', 'oh', 'no', 'eso', 'es', 'don', 'ramón', 'ah', 'la', 'cosa', 'no', 'pinta', 'bien', 'no', 'la', 'cosa', 'no', 'pinta', 'bien', 'la', 'verdad', 'tizne', 'que', 'ser', 'por', 'aquí', 'eh', 'chico', 'era', 'por', 'aquí', 'era', 'era', 'una', 'de', 'estas', 'entrada', 'aquí', 'sí', 'era', 'aquí', 'era', 'aquí', 'justo', 'oh', 'don', 'ramón', 'rey', 'nos', 'amos', 'a', 'casa', 'veinte', 'guacho', 'para', 'caseta', 'para', 'caseta', 'para', 'caseta', 'tenso', 'una', 'ganar', 'de', 'llegar', 'a', 'casa', 'no', 'sabia', 'cuenta', 'porque', 'hoy', 'tenso', 'mucho', 'planeo', 'dije', 'que', 'tenso', 'hueso', 'por', 'favor', 'no', 'habla', 'visto', 'ningún', 'lobo', 'todavía', 'crea', 'eh', 'he', 'visto', 'muy', 'poco', 'oh', 'en', 'aquí', 'pequeño', 'en', 'aquí', 'pequeño', 'te', 'hoy', 'a', 'llamar', 'ha', 'hoy', 'a', 'poner', 'un', 'nombre', 'original', 'picardo', 'en', 'conmigo', 'picardo', 'que', 'que', 'que', 'estas', 'hacienda', 'que', 'apuesto', 'estas', 'hacienda', 'se', 'muerte', 'picardo', 'en', 'este', 'episodio', 'ay', 'tío', 'de', 'verdad', 'os', 'pensil', 'que', 'se', 'a', 'a', 'morir', 'alguien', 'como', 'picardo', 'el', 'primer', 'episodio', 'estas', 'oh', 'cofre', 'cofre', 'cofre', 'pero', 'gordo', 'vale', 'veto', 'veto', 'veto', 'veto', 'no', 'picardo', 'no', 'luche', 'debe', 'no', 'luche', 'debe', 'debe', 'pero', 'por', 'que', 'aguantar', 'solo', 'una', 'por', 'que', 'y', 'además', 'por', 'que', 'se', 'ha', 'puesto', 'a', 'la', 'defensiva', 'por', 'que', 'no', 'por', 'que', 'vale', 'como', 'si', 'no', 'ha', 'pasado', 'nada', 'vale', 'como', 'si', 'lo', 'que', 'acabo', 'de', 'ocurrir', 'no', 'ha', 'aburrido', 'realmente', 'oh', 'mira', 'un', 'lobo', 'que', 'bonito', 'nunca', 'habla', 'visto', 'uno', 'toma', 'pequeño', 'oh', 'que', 'bien', 'te', 'hoy', 'a', 'poner', 'un', 'nombre', 'original', 'te', 'las', 'a', 'llamar', 'picardo', 'vale', 'estados', 'donde', 'esto', 'mi', 'casa', 'tío', 'me', 'esto', 'como', 'que', 'zona', 'de', 'trabajo', 'y', 'mi', 'casa', 'es', 'esto', 'no', 'ah', 'si', 'esto', 'al', 'lado', 'esto', 'al', 'lado', 'siempre', 'me', 'pierio', 'es', 'que', 'esto', 'es', 'un', 'son', 'vale', 'tenso', 'tenso', 'hoy', 'plantado', 'hacer', 'variar', 'cosa', 'vale', 'os', 'lo', 'hoy', 'a', 'explicar', 'amos', 'a', 'dejar', 'a', 'don', 'ramón', 'hola', 'raspa', 'este', 'es', 'don', 'ramón', 'o', 'se', 'picardo', 'es', 'el', 'primer', 'perro', 'el', 'primero', 'que', 'he', 'conseguir', 'y', 'que', 'a', 'a', 'vale', 'a', 'com', 'se', 'quien', 'ya', 'me', 'gusto', 'esto', 'me', 'gusto', 'sentir', 'acompañado', 'por', 'mis', 'animal', 'vale', 'e', 'planeo', 'para', 'hoy', 'pues', 'bien', 'quieto', 'tener', 'vista', 'preciosa', 'vale', 'eso', 'por', 'un', 'lado', 'así', 'que', 'todo', 'esto', 'hoy', 'a', 'quemar', 'hoy', 'a', 'sacar', 'un', 'mechero', 'hoy', 'a', 'empezar', 'a', 'quemar', 'todo', 'los', 'árbol', 'que', 'me', 'joven', 'las', 'vista', 'incluso', 'este', 'eh', 'eso', 'por', 'una', 'parte', 'vale', 'dos', 'me', 'quieto', 'poner', 'y', 'como', 'hoy', 'a', 'poner', 'pues', 'bien', 'crea', 'que', 'hoy', 'a', 'hacer', 'ya', 'mi', 'mesa', 'de', 'encantamiento', 'se', 'bien', 'chico', 'la', 'serie', 'a', 'a', 'durar', 'literalmente', 'diez', 'capítulo', 'y', 'me', 'la', 'pela', 'pero', 'es', 'que', 'quieto', 'o', 'se', 'es', 'es', 'una', 'de', 'las', 'parte', 'más', 'divertida', 'para', 'mí', 'de', 'de', 'el', 'tema', 'de', 'que', 'ahí', 'el', 'tema', 'de', 'de', 'encantar', 'cosa', 'y', 'poner', 'potísimo', 'y', 'de', 'conseguir', 'eh', 'libro', 'de', 'reparación', 'y', 'todo', 'eso', 'aunque', 'crea', 'que', 'libro', 'de', 'reparación', 'ya', 'no', 'se', 'conseguir', 'pescado', 'verdad', 'eso', 'ha', 'que', 'ver', 'ha', 'que', 'ver', 'como', 'hacer', 'me', 'quieto', 'poner', 'amicísimo', 'por', 'dos', 'razonar', 'vale', 'la', 'primera', 'eh', 'para', 'vengar', 'de', 'toda', 'las', 'mazmorra', 'que', 'me', 'ha', 'destrozador', 'la', 'vida', 'y', 'para', 'recoger', 'a', 'juan', 'carlos', 'que', 'estafa', 'encerrado', 'en', 'la', 'casa', 'de', 'bruja', 'eh', 'y', 'también', 'para', 'hacer', 'por', 'primera', 'vez', 'el', 'el', 'roer', 'el', 'jeringa', 'como', 'se', 'llama', 'tarde', 'eso', 'el', 'tarde', 'nunca', 'me', 'hecho', 'al', 'tarde', 'eh', 'o', 'se', 'lo', 'mi', 'cuando', 'salir', 'pero', 'nunca', 'nunca', 'lo', 'he', 'conseguir', 'eliminar', 'quieto', 'quieto', 'hacer', 'eso', 'porque', 'no', 'se', 'ni', 'que', 'edad', 'ni', 'nada', 'pero', 'tizne', 'pinta', 'de', 'estar', 'bastante', 'guay', 'por', 'otra', 'parte', 'mi', 'objetivo', 'de', 'hoy', 'a', 'a', 'ser', 'conseguir', 'ajolote', 'que', 'después', 'me', 'tenis', 'que', 'decir', 'como', 'hacer', 'vale', 'pero', 'paso', 'a', 'paso', 'primero', 'me', 'hoy', 'a', 'echar', 'una', 'siesta', 'que', 'hacer', 'esta', 'oveja', 'dentro', 'de', 'mi', 'casa', 'en', 'que', 'momento', 'yo', 'no', 'quedo', 'encargar', 'me', 'de', 'más', 'animal', 'o', 'se', 'si', 'ya', 'cuidar', 'a', 'uno', 'ya', 'se', 'me', 'esto', 'hacienda', 'con', 'esta', 'arriba', 'cuidar', 'a', 'cinco', 'hoy', 'a', 'hacer', 'un', 'barco', 'le', 'hoy', 'a', 'meter', 'una', 'barca', 'y', 'que', 'se', 'lo', 'que', 'el', 'señor', 'quieta', 'no', 'tenso', 'nave', 'tas', 'no', 'vale', 'oveja', 'si', 'querer', 'vivir', 'conmigo', 'que', 'a', 'teñir', 'a', 'las', 'les', 'y', 'una', 'de', 'ellas', 'es', 'que', 'viva', 'abajo', 'yo', 'no', 'muermo', 'con', 'el', 'ganado', 'yo', 'no', 'muermo', 'con', 'animal', 'de', 'granja', 'te', 'doy', 'permiso', 'de', 'estar', 'aquí', 'en', 'en', 'la', 'esquina', 'vale', 'hoy', 'a', 'hacer', 'aquí', 'una', 'terracota', 'con', 'madera', 'de', 'teca', 'vale', 'resistente', 'a', 'la', 'lluvia', 'y', 'hoy', 'a', 'tener', 'una', 'vista', 'increíble', 'pero', 'hoy', 'a', 'quemar', 'todo', 'esto', 'porque', 'quedo', 'y', 'así', 'tenso', 'mejor', 'vista', 'tú', 'no', 'te', 'quermes', 'eh', 'picardo', 'cariño', 'tú', 'no', 'te', 'al', 'fuego', 'mi', 'rey', 'si', 'se', 'quema', 'alguien', 'que', 'se', 'yo', 'vale', 'pero', 'tú', 'tres', 'tonto', 'como', 'la', 'pago', 'no', 'tenso', 'agua', 'como', 'como', 'como', 'vale', 'a', 'ver', 'e', 'no', 'que', 'vista', 'ahora', 'sí', 'esto', 'lo', 'cambia', 'todo', 'eh', 'y', 'ahora', 'es', 'eso', 'que', 'de', 'la', 'terracota', 'así', 'desde', 'aquí', 'o', 'se', 'hacedor', 'aplanador', 'un', 'poquito', 'esto', 'a', 'lo', 'mejor', 'y', 'lo', 'hacedor', 'recto', 'o', 'ponedor', 'un', 'poquito', 'más', 'de', 'tierra', 'ponedor', 'un', 'poquito', 'más', 'de', 'tierra', 'y', 'después', 'hacedor', 'la', 'terraza', 'un', 'poquito', 'más', 'adelante', 'que', 'más', 'tierra', 'e', 'hoy', 'a', 'hacer', 'lo', 'siguiente', 'vale', 'amos', 'a', 'planear', 'donde', 'colocar', 'la', 'mesa', 'de', 'encantamiento', 'claro', 'es', 'que', 'la', 'casa', 'esta', 'casa', 'horrible', 'y', 'asquerosa', 'que', 'me', 'he', 'criado', 'no', 'no', 'no', 'me', 'cabe', 'es', 'que', 'no', 'me', 'cabe', 'tenería', 'que', 'hacer', 'una', 'casa', 'reparada', 'solo', 'para', 'la', 'mesa', 'de', 'de', 'encantamiento', 'a', 'ver', 'que', 'requerir', 'la', 'mesa', 'de', 'encantamiento', 'crea', 'que', 'requerir', 'obsidiana', 'un', 'libro', 'y', 'dos', 'diamante', 'lo', 'tenedor', 'todo', 'lo', 'tenedor', 'todo', 'vale', 'cuanto', 'libro', 'me', 'hacia', 'falta', 'o', 'si', 'me', 'pago', 'la', 'la', 'mesa', 'de', 'encantamiento', 'como', 'una', 'casa', 'flotante', 'con', 'vista', 'increíble', 'para', 'hacer', 'magia', 'oscura', 'no', 'no', 'como', 'una', 'plataforma', 'saber', 'tampoco', 'hacer', 'falta', 'curro', 'el', 'mucho', 'una', 'plataforma', 'con', 'cristal', 'a', 'lo', 'mejor', 'con', 'un', 'material', 'así', 'bonico', 'cuidado', 'eh', 'eh', 'lo', 'hacedor', 'del', 'material', 'rosa', 'este', 'asqueroso', 'ah', 'es', 'lo', 'que', 'pega', 'aquí', 'en', 'verdad', 'como', 'dos', 'y', 'en', 'teoría', 'esto', 'bebería', 'de', 'no', 'un', 'aplauso', 'para', 'mí', 'me', 'lo', 'he', 'ganado', 'la', 'verdad', 'me', 'lo', 'he', 'ganado', 'me', 'lo', 'he', 'ganado', 'me', 'lo', 'he', 'ganado', 'mi', 'primer', 'círculo', 'perfecto', 'en', 'quince', 'año', 'que', 'lleva', 'cuando', 'a', 'ver', 'como', 'se', 've', 'desde', 'casa', 'me', 'tapa', 'toda', 'las', 'vista', 'tío', 'me', 'tan', 'justo', 'quedo', 'un', 'bosque', 'entero', 'para', 'para', 'tener', 'vista', 'y', 'ahora', 'hoy', 'y', 'las', 'tipo', 'tío', 'ahora', 'hoy', 'y', 'las', 'tipo', 'tío', 'nada', 'es', 'que', 'me', 'tapa', 'las', 'vista', 'es', 'que', 'pensada', 'que', 'ira', 'a', 'estar', 'vale', 'no', 'los', 'error', 'te', 'hacer', 'más', 'fuerte', 'tío', 'por', 'una', 'vez', 'que', 'pago', 'un', 'círculo', 'perfecto', 'vale', 'es', 'que', 'claro', 'ahora', 'y', 'si', 'me', 'la', 'pago', 'es', 'que', 'me', 'la', 'pela', 'yo', 'lo', 'esto', 'hacienda', 'bonito', 'por', 'vosotros', 'chico', 'porque', 'se', 'que', 'seis', 'eh', 'pepe', 'los', 'os', 'gusto', 'mucho', 'la', 'decoración', 'de', 'dinamo', 'yo', 'son', 'una', 'persona', 'práctica', 'vale', 'yo', 'poesía', 'vivir', 'en', 'una', 'casa', 'cuatro', 'por', 'cuatro', 'mientras', 'que', 'queda', 'dormir', 'y', 'tener', 'mis', 'cofre', 'y', 'mi', 'mesa', 'de', 'encantamiento', 'ya', 'esto', 'no', 'me', 'hacer', 'falta', 'nada', 'más', 'así', 'que', 'lo', 'hoy', 'a', 'hacer', 'encima', 'de', 'un', 'árbol', 'ya', 'esto', 'no', 'que', 'idea', 'más', 'maravillosa', 'acabo', 'de', 'tener', 'sí', 'sí', 'sí', 'encima', 'de', 'un', 'árbol', 'chico', 'vale', 'atento', 'atento', 'tenso', 'un', 'plan', 'tenso', 'un', 'plan', 'solo', 'hoy', 'a', 'necesitar', 'tijera', 'la', 'mesa', 'de', 'encantamiento', 'y', 'ya', 'esto', 'y', 'hoy', 'a', 'hacer', 'arte', 'atento', 'mi', 'plan', 'es', 'hacer', 'algo', 'que', 'esto', 'incrustar', 'en', 'la', 'naturaleza', 'y', 'como', 'lo', 'hoy', 'a', 'hacer', 'os', 'alguno', 'la', 'mayoría', 'no', 'pero', 'solo', 'nos', 'pues', 'bien', 'hoy', 'a', 'subir', 'aquí', 'esto', 'después', 'lo', 'decorar', 'con', 'escalera', 'bonita', 'y', 'tal', 'y', 'hoy', 'a', 'hacer', 'que', 'la', 'propia', 'punta', 'del', 'árbol', 'vale', 'la', 'parte', 'de', 'arriba', 'del', 'árbol', 'se', 'la', 'zona', 'de', 'encantamiento', 'y', 'para', 'hacer', 'bonito', 'amos', 'a', 'nos', 'cuanto', 'de', 'estos', 'y', 'crea', 'que', 'lo', 'hoy', 'a', 'poner', 'como', 'por', 'aquí', 'hoy', 'a', 'aplanar', 'como', 'toda', 'esta', 'zona', 'y', 'para', 'tener', 'una', 'vista', 'preciosa', 'mientras', 'encantado', 'saber', 'a', 'bien', 'vale', 'esto', 'viento', 'es', 'de', 'noche', 'vale', 'y', 'la', 'mesa', 'encantamiento', 'aquí', 'verdad', 'esto', 'no', 'lo', 'quieto', 'tapar', 'quieto', 'que', 'se', 'vena', 'las', 'vista', 'así', 'así', 'eh', 'rápido', 'que', 'se', 'pues', 'hacer', 'con', 'rayo', 'algo', 'se', 'poda', 'hacer', 'con', 'rayo', 'que', 'pasa', 'día', 'de', 'rayo', 'no', 'como', 'se', 've', 'que', 'guapo', 'hola', 'lo', 'no', 'no', 'no', 'no', 'no', 'por', 'favor', 'por', 'favor', 'no', 'no', 'no', 'no', 'eh', 'no', 'no', 'no', 'no', 'picardo', 'estas', 'bien', 'ay', 'dios', 'esto', 'debajo', 'del', 'árbol', 'vale', 'eh', 'pongo', 'un', 'par', 'de', 'rayo', 'pongo', 'un', 'par', 'de', 'rayo', 'para', 'forzar', 'que', 'que', 'venta', 'aquí', 'los', 'rayo', 'crea', 'que', 'tenso', 'cobre', 'no', 'cobre', 'vale', 'como', 'se', 'hacia', 'para', 'oh', 'oh', 'oh', 'eh', 'eh', 'eh', 'se', 'caliente', 'se', 'caliente', 'se', 'ha', 'calentador', 'eh', 'se', 'caliente', 'se', 'caliente', 'se', 'bien', 'lo', 'pongo', 'encima', 'de', 'casa', 'para', 'que', 'no', 'se', 'me', 'quema', 'la', 'casa', 'porque', 'es', 'de', 'madera', 'se', 'esto', 'quemado', 'dios', 'dios', 'dios', 'dios', 'dios', 'picardo', 'en', 'ya', 'por', 'favor', 'no', 'quieto', 'que', 'te', 'en', 'tardo', 'vale', 'hoy', 'a', 'quitar', 'esto', 'gente', 'y', 'lo', 'pongo', 'encima', 'de', 'casa', 'no', 'para', 'que', 'no', 'se', 'quema', 'tipo', 'no', 'es', 'lo', 'que', 'quera', 'pero', 'pues', 'funcionar', 'ostia', 'no', 'pero', 'que', 'se', 'quema', 'modo', 'qui', 'en', 'me', 'ha', 'dicho', 'que', 'lo', 'pongo', 'encima', 'de', 'la', 'casa', 'vale', 'atento', 'mi', 'plan', 'es', 'el', 'siguiente', 'ay', 'pero', 'aquí', 'justo', 'tenso', 'la', 'la', 'esta', 'de', 'agua', 'infinito', 'tío', 'me', 'vale', 'de', 'igual', 'lo', 'quedo', 'hacer', 'a', 'partir', 'de', 'aquí', 'atento', 'como', 'vale', 'vale', 'vale', 'y', 'esto', 'aquí', 'a', 'lo', 'mejor', 'madre', 'muy', 'vale', 'vale', 'chal', 'esto', 'queda', 'muy', 'bonito', 'esto', 'queda', 'muy', 'bonito', 'y', 'muy', 'mágico', 'aquí', 'lo', 'asiento', 'lo', 'asiento', 'mucho', 'pero', 'esto', 'aquí', 'por', 'primera', 'vez', 'en', 'horizonte', 'esto', 'he', 'pasado', 'eh', 'me', 'he', 'pasado', 'un', 'poco', 'sí', 'bien', 'bien', 'bien', 'bien', 'bien', 'bien', 'bien', 'hala', 'que', 'guapa', 'la', 'animación', 'malo', 'vale', 'la', 'el', 'hacha', 'ahí', 'elche', 'que', 'he', 'puesto', 'que', 'guapo', 'hoy', 'a', 'encantar', 'estas', 'tijera', 'me', 'encanto', 'tío', 'mi', 'zona', 'de', 'de', 'de', 'su', 'la', 'quieto', 'ver', 'de', 'lejos', 'eh', 'don', 'ramón', 'disfrutar', 'las', 'vista', 'de', 'nada', 'eh', 'no', 'dios', 'pues', 'para', 'encantar', 'necesitado', 'lápiz', 'azul', 'y', 'e', 'oh', 'oh', 'oh', 'oh', 'oh', 'oh', 'son', 'un', 'genio', 'son', 'un', 'absoluto', 'genio', 'del', 'contenido', 'cister', 'basta', 'contratar', 'amos', 'a', 'ir', 'a', 'por', 'lápiz', 'azul', 'a', 'la', 'vez', 'que', 'amos', 'a', 'ir', 'a', 'por', 'el', 'ajolote', 'porque', 'en', 'teoría', 'segün', 'los', 'sabio', 'del', 'el', 'ajolote', 'esto', 'en', 'las', 'cueva', 'verdad', 'verdad', 'verdad', 'verdad', 'verdad', 'dios', 'que', 'bonita', 'la', 'cascada', 'ca', 'caer', 'dios', 'vale', 'crea', 'que', 'lo', 'más', 'sensato', 'seria', 'llevar', 'al', 'este', 'perdón', 'don', 'ramón', 'no', 'te', 'quera', 'insultar', 'ahora', 'vale', 'tenso', 'valla', 'para', 'atar', 'al', 'perfecto', 'vale', 'perfecto', 'amos', 'lo', 'que', 'crea', 'que', 'lo', 'que', 'me', 'renta', 'es', 'eso', 'ir', 'a', 'un', 'sitio', 'abierto', 'por', 'cierto', 'picardo', 'se', 'bien', 'conmigo', 'eh', 'vale', 'hecho', 'de', 'menos', 'a', 'falta', 'eh', 'también', 'que', 'quieta', 'un', 'cantina', 'en', 'mi', 'casa', 'era', 'el', 'animal', 'más', 'especial', 'que', 'he', 'tejido', 'vale', 'si', 'hoy', 'aquí', 'eh', 'por', 'un', 'campo', 'abierto', 'y', 'de', 'repente', 'encuentro', 'un', 'árbol', 'que', 'tenia', 'como', 'esas', 'rara', 'significar', 'que', 'es', 'un', 'árbol', 'de', 'azalea', 'y', 'debajo', 'de', 'ese', 'árbol', 'bebería', 'haber', 'una', 'ajolote', 'verdad', 'ah', 'me', 'estas', 'loco', 'chal', 'me', 'me', 'a', 'a', 'dar', 'algo', 'eh', 'me', 'a', 'a', 'dar', 'un', 'derrame', 'cerebral', 'con', 'este', 'chal', 'me', 'abés', 'dicho', 'que', 'tenso', 'que', 'encontrar', 'el', 'árbol', 'porque', 'esto', 'justo', 'debajo', 'del', 'árbol', 'o', 'se', 'no', 'quedo', 'ir', 'a', 'una', 'cual', 'mando', 'y', 'encontrar', 'con', 'una', 'ajolote', 'tenia', 'que', 'buscar', 'mucho', 'ah', 'esto', 'es', 'no', 'esto', 'es', 'verdad', 'vale', 'ha', 'que', 'dormir', 'que', 'dormir', 'y', 'atar', 'a', 'este', 'pie', 'te', 'atamor', 'bar', 'bi', 'barba', 'don', 'ramón', 'y', 'ahora', 'yo', 'me', 'muermo', 'a', 'tú', 'vigilar', 'a', 'don', 'ramón', 'vale', 'que', 'a', 'veras', 'escapar', 'como', 'bobo', 'vale', 'aquí', 'en', 'teoría', 'entonces', 'hacer', 'algún', 'tipo', 'de', 'ruido', 'tenso', 'caída', 'de', 'peso', 'pluma', 'cuatro', 'cabrón', 'menuda', 'salvada', 'eh', 'vale', 'aquí', 'en', 'teoría', 'bebería', 'haber', 'una', 'ajolote', 'eso', 'eso', 'esa', 'tierra', 'que', 'es', 'esa', 'tierra', 'me', 'buena', 'algo', 'más', 'abajo', 'estas', 'loco', 'abés', 'perdido', 'la', 'cabeza', 'como', 'que', 'más', 'abajo', 'hola', 'pero', 'que', 'esto', 'es', 'infinito', 'esto', 'es', 'grande', 'ajolote', 'eso', 'no', 'son', 'ajolote', 'que', 'suponer', 'que', 'esto', 'buscador', 'valla', 'luminosa', 'esto', 'cerca', 'valla', 'luminosa', 'lápiz', 'azul', 'bien', 'bien', 'bien', 'bien', 'eh', 'eh', 'eso', 'es', 'eso', 'es', 'chal', 'a', 'luminosa', 'eso', 'es', 'sino', 'esto', 'entonces', 'sino', 'para', 'abajo', 'es', 'un', 'poco', 'mal', 'rollo', 'eh', 'que', 'es', 'eso', 'un', 'momento', 'esto', 'esto', 'es', 'una', 'caja', 'de', 'sula', 'de', 'esas', 'ser', 'como', 'se', 'llama', 'experiencia', 'no', 'discreción', 'cien', 'camino', 'atacado', 'cerca', 'de', 'un', 'senior', 'de', 'sula', 'o', 'de', 'un', 'tarde', 'para', 'evitar', 'que', 'te', 'detente', 'como', 'que', 'guardín', 'momento', 'menos', 'buscador', 'menos', 'vencido', 'buscador', 'oro', 'menos', 'encontrado', 'diamante', 'segün', 'vosotros', 'si', 'ha', 'un', 'en', 'ha', 'loto', 'no', 'a', 'ver', 'un', 'un', 'un', 'un', 'un', 'un', 'un', 'un', 'un', 'u', 'un', 'un', 'un', 'un', 'no', 'nada', 'a', 'esto', 'sirle', 'para', 'para', 'algo', 'lo', 'quedo', 'quedo', 'usar', 'para', 'chatear', 'es', 'que', 'no', 'me', 'tan', 'nada', 'crea', 'la', 'roca', 'de', 'no', 'lo', 'quedo', 'votar', 'ah', 'que', 'de', 'experiencia', 'esto', 'que', 'de', 'experiencia', 'tú', 'aquí', 'me', 'hincha', 'me', 'vendo', 'aquí', 'con', 'una', 'pala', 'de', 'diamante', 'y', 'a', 'disfrutar', 'ajolote', 'por', 'favor', 'veto', 'de', 'ahí', 'pero', 'que', 'pasa', 'acabo', 'de', 'sonar', 'es', 'aquí', 'me', 'quedo', 'hinchar', 'experiencia', 'esto', 'es', 'una', 'locura', 'si', 'me', 'pago', 'una', 'azada', 'firme', 'más', 'rápido', 'amos', 'a', 'ver', 'esto', 'hostia', 'hostil', 'al', 'pues', 'me', 'mola', 'esto', 'eh', 'que', 'haya', 'metido', 'algo', 'una', 'de', 'pues', 'ganar', 'un', 'montón', 'de', 'experiencia', 'mecha', 'experiencia', 'cabrón', 'por', 'fin', 'las', 'azada', 'son', 'útil', 'bravo', 'vale', 'nivel', 'faraón', 'es', 'una', 'locura', 'esto', 'hoy', 'a', 'hacer', 'un', 'de', 'diamante', 'ya', 'una', 'de', 'diamante', 'con', 'fortuna', 'cabrón', 'veintidós', 'escucho', 'algo', 'por', 'aquí', 'eh', 'escucho', 'algo', 'como', 'grande', 'a', 'la', 'izquierda', 'es', 'el', 'guardín', 'al', 'que', 'tanto', 'tenis', 'pues', 'a', 'a', 'sinceramente', 'me', 'esto', 'pereciendo', 'un', 'parcela', 'esto', 'robado', 'todo', 'su', 'no', 'es', 'feliz', 'el', 'que', 'más', 'conocer', 'sino', 'el', 'que', 'menos', 'más', 'desconocer', 'rubia', 'vale', 'un', 'benito', 'al', 'orden', 'de', 'parte', 'eh', 'que', 'que', 'acabo', 'de', 'hacer', 'acabo', 'de', 'respirar', 'a', 'través', 'de', 'la', 'pared', 'acabo', 'de', 'gritar', 'a', 'través', 'de', 'la', 'pared', 'una', 'que', 'bien', 'acabo', 'de', 'ver', 'algo', 'mover', 'corte', 'nube', 'nube', 'nube', 'nube', 'no', 'grasa', 'no', 'grasa', 'no', 'grasa', 'no', 'grasa', 'no', 'grasa', 'todo', 'menos', 'grasa', 'cabrón', 'todo', 'menos', 'grasa', 'cabrón', 'por', 'favor', 'todo', 'menos', 'grasa', 'ahora', 'mismo', 'tomate', 'la', 'en', 'camboya', 'tío', 'tener', 'el', 'parcela', 'pues', 'él', 'porque', 'no', 'me', 'ha', 'atado', 'y', 'le', 'he', 'robado', 'yo', 'toda', 'su', 'experiencia', 'hoy', 'a', 'salir', 'de', 'aquí', 'marco', 'la', 'zona', 'es', 'verdad', 'la', 'marco', 'la', 'marco', 'marco', 'no', 'hoy', 'a', 'marcar', 'la', 'la', 'cueva', 'la', 'cueva', 'la', 'cueva', 'el', 'ajolote', 'mira', 'yo', 'son', 'feliz', 'con', 'mi', 'perro', 'con', 'mi', 'caballo', 'y', 'con', 'mi', 'gato', 'no', 'me', 'hacer', 'falta', 'ningún', 'ajolote', 'para', 'ser', 'feliz', 'escucho', 'escucho', 'escucho', 'naturaleza', 'oh', 'de', 'día', 'gracia', 'al', 'señor', 'vale', 'en', 'la', 'entrada', 'en', 'amos', 'a', 'poner', 'esto', 'y', 'entrada', 'guardín', 'vale', 'donde', 'esto', 'mis', 'hoy', 'a', 'ir', 'o', 'se', 'ese', 'árbol', 'pues', 'aparecer', 'en', 'cualquier', 'broma', 'no', 'por', 'lo', 'que', 'esto', 'viento', 'amos', 'a', 'hacer', 'eso', 'amos', 'a', 'buscar', 'un', 'árbol', 'que', 'esto', 'más', 'bajo', 'y', 'más', 'cerca', 'de', 'casa', 'dios', 'santo', 'mi', 'vida', 'que', 'se', 've', 'toda', 'la', 'zona', 'esa', 'donde', 'donde', 'estafa', 'la', 'aldea', 'donde', 'esto', 'mi', 'mi', 'gato', 'perdido', 'wat', 'no', 'ostra', 'de', 'aquí', 'quedo', 'llegar', 'rápidamente', 'a', 'la', 'parte', 'de', 'arriba', 'de', 'la', 'esta', 'que', 'seguro', 'que', 'tener', 'mazo', 'de', 'cosa', 'eh', 'tú', 'y', 'eso', 'son', 'como', 'islas', 'flotante', 'e', 'eso', 'todavía', 'no', 'tenso', 'ni', 'idea', 'de', 'que', 'es', 'pero', 'parecer', 'como', 'islas', 'flotante', 'enorme', 'que', 'locura', 'lo', 'que', 'no', 'se', 'es', 'para', 'donde', 'en', 'que', 'broma', 'pensil', 'de', 'todo', 'estos', 'que', 'pues', 'estar', 'aquí', 'paso', 'de', 'venir', 'porque', 'aquí', 'tizne', 'el', 'filtro', 'verde', 'este', 'asqueroso', 'nunca', 'he', 'hacia', 'allá', 'crea', 'siempre', 'hoy', 'a', 'ha', 'nunca', 'he', 'do', 'hacia', 'allá', 'a', 'lo', 'mejor', 'por', 'aquí', 'como', 'ha', 'tanto', 'verde', 'vale', 'ahora', 'hacedor', 'dios', 'dios', 'que', 'en', 'mis', 'ojo', 'que', 'en', 'mis', 'ojo', 'de', 'momento', 'no', 'en', 'nada', 'eso', 'que', 'es', 'amos', 'azalea', 'azalea', 'que', 'asco', 'de', 'broma', 'que', 'asco', 'de', 'broma', 'orden', 'orden', 'no', 'no', 'per', 'son', 'este', 'tipo', 'de', 'árbol', 'eh', 'no', 'no', 'no', 'estos', 'son', 'blanco', 'bah', 'otra', 'vez', 'a', 'tomado', 'por', 'culo', 'otra', 'vez', 'a', 'tomar', 'por', 'culo', 'para', 'a', 'tomar', 'por', 'culo', 'de', 'casa', 'y', 'para', 'nada', 'ha', 'una', 'aldea', 'na', 'na', 'oh', 'crea', 'que', 'el', 'sueño', 'de', 'la', 'ajolote', 'que', 'posponer', 'eh', 'pero', 'bueno', 'mola', 'que', 'se', 'difícil', 'si', 'se', 'nota', 'que', 'me', 'lo', 'locura', 'saber', 'si', 'lo', 'tenso', 'es', 'eso', 'como', 'tener', 'una', 'montura', 'difícil', 'en', 'el', 'a', 'o', 'algo', 'y', 'esta', 'casa', 'oh', 'esto', 'parecer', 'como', 'un', 'sitio', 'para', 'dormir', 'de', 'madre', 'a', 'ver', 'hola', 'bueno', 'día', 'caballero', 'ye', 'menudo', 'soplón', 'no', 'me', 'no', 'de', 'mansión', 'tizne', 'mejor', 'casa', 'que', 'yo', 'el', 'hijo', 'de', 'este', 'amos', 'a', 'entrar', 'a', 'tu', 'casa', 'a', 'negociar', 'un', 'segundo', 'entre', 'entre', 'entre', 'esto', 'tu', 'mujer', 'y', 'tu', 'tus', 'hijo', 'aquí', 'esta', 'es', 'mi', 'nueva', 'casa', 'no', 'tizne', 'cama', 'es', 'el', 'degenerado', 'deseo', 'ruina', 'mal', 'toma', 'el', 'desierto', 'encontrar', 'el', 'broma', 'del', 'desierto', 'cabrón', 'bien', 'bien', 'bien', 'bien', 'bien', 'se', 'bien', 'costa', 'pues', 'nada', 'chico', 'me', 'hoy', 'a', 'quedar', 'en', 'esta', 'casa', 'hasta', 'el', 'siguiente', 'capítulo', 'mi', 'nueva', 'nueva', 'nueva', 'casa', 'chal', 'es', 'imposible', 'bibliotecario', 'cabrón', 'me', 'he', 'cargado', 'tu', 'esposo', 'luego', 'hacedor', 'negocio', 'tú', 'yo', 'luego', 'hacedor', 'negocio', 'ese', 'tío', 'cuidado', 'me', 'lo', 'quedo', 'llevar', 'con', 'una', 'cuerda', 'como', 'como', 'como', 'me', 'lo', 'mato', 'en', 'como', 'me', 'lo', 'mato', 'cómodo', 'como', 'como', 'me', 'lo', 'lleva', 'a', 'casa', 'este', 'pie', 'con', 'el', 'carro', 'con', 'el', 'caballo', 'y', 'el', 'carro', 'a', 'pues', 'ya', 'tenedor', 'para', 'para', 'el', 'siguiente', 'día', 'eh', 'para', 'el', 'siguiente', 'capítulo', 'hacedor', 'eso', 'volvedor', 'a', 'casa', 'pillador', 'a', 'don', 'ramón', 'es', 'un', 'carro', 'y', 'nos', 'tramo', 'a', 'este', 'sí', 'sí', 'sí', 'sí']\n",
      "Contenido modificado: ['mi' 'gente' 'de' 'perú' 'que' 'tal' 'estas' 'ayer' 'nos' 'bueno' 'el'\n",
      " 'otro' 'día' 'nos' 'eh' 'hostia' 'es' 'el' 'caballo' 'vale' 'eh' 'no'\n",
      " 'ha' 'tiempo' 'para' 'interés' 'ha' 'que' 'buscar' 'a' 'a' 'don' 'ramón'\n",
      " 'que' 'esto' 'perdido' 'en' 'el' 'mar' 'eh' 'espera' 'que' 'liga' 'vivo'\n",
      " 'por' 'favor' 'que' 'esto' 'vivo' 'no' 'se' 'por' 'que' 'me' 'he'\n",
      " 'jurado' 'la' 'vida' 'por' 'un' 'barco' 'la' 'verdad' 'cuando' 'es'\n",
      " 'casi' 'gratis' 'de' 'hacer' 'pero' 'vale' 'donde' 'me' 'deja' 'a'\n",
      " 'rabón' 'tenso' 'que' 'volver' 'a' 'casa' 'eh' 'hoy' 'tenso' 'nos'\n",
      " 'planeo' 'increíble' 'vale' 'os' 'hoy' 'a' 'comentar' 'mientras'\n",
      " 'buscador' 'a' 'ramón' 'don' 'ramón' 'por' 'favor']\n",
      "['más', 'hoy', 'a', 'explicar', 'todo', 'lo', 'que', 'te', 'extraño', 'te', 'extraño', 'demasiado', 'ahora', 'podre', 'como', 'es', 'tan', 'diario', 'yo', 'son', 'yo', 'ya', 'juego', 'amigo', 'a', 'día', 'ha', 'llegado', 'el', 'momento', 'de', 'a', 'encontrar', 'ahora', 'sí', 'que', 'no', 'realmente', 'no', 'poda', 'usar', 'no', 'me', 'acomodada', 'pasado', 'mucha', 'cosa', 'ha', 'sino', 'hermoso', 'y', 'caótico', 'también', 'esto', 'que', 'en', 'acá', 'es', 'que', 'mar', 'no', 'le', 'gustar', 'los', 'chupona', 'entonces', 'ha', 'veras', 'que', 'no', 'quier', 'comer', 'no', 'quier', 'que', 'les', 'dable', 'leche', 'solamente', 'te', 'quita', 'que', 'te', 'quien', 'y', 'brasa', 'pero', 'no', 'importar', 'cuando', 'pensar', 'que', 'ya', 'volver', 'justo', 'amar', 'le', 'dios', 'su', 'primera', 'grita', 'son', 'novata', 'bien', 'que', 'ternura', 'cuando', 'yo', 'gran', 'de', 'los', 'último', 'víreo', 'y', 'me', 'preguntar', 'que', 'cuanto', 'tiempo', 'me', 'ira', 'a', 'ausentar', 'del', 'trabajo', 'y', 'dije', 'un', 'mes', 'en', 'un', 'mes', 'a', 'regresar', 'y', 'es', 'que', 'no', 'a', 'dios', 'mío', 'que', 'pesado', 'es', 'esto', 'pero', 'que', 'harem', 'es', 'esto', 'es', 'una', 'fusión', 'he', 'dejado', 'de', 'ser', 'humana', 'es', 'como', 'si', 'después', 'de', 'haber', 'marido', 'a', 'mí', 'no', 'rubiera', 'llegado', 'a', 'otro', 'plano', 'es', 'hermoso', 'es', 'marítimo', 'lo', 'esto', 'la', 'verdad', 'es', 'que', 'esto', 'emocional', 'porque', 'diario', 'es', 'un', 'reto', 'todo', 'los', 'día', 'pasa', 'cosa', 'distinta', 'todo', 'los', 'día', 'me', 'connosco', 'más', 'a', 'mí', 'pero', 'ya', 'yo', 'me', 'esto', 'salado', 'cable', 'si', 'y', 'terapéutica', 'fe', 'usted', 'y', 'mi', 'cuerpo', 'descansado', 'un', 'ramito', 'que', 'más', 'le', 'quedo', 'ir', 'a', 'la', 'vida', 'y', 'la', 'más', 'hermosa', 'que', 'esto', 'acá', 'que', 'también', 'esto', 'entrés', 'a', 'la', 'pobre', 'despejada', 'aquí', 'estados', 'como', 'danés', 'todo', 'las', 'tan', 'por', 'parejo', 'no', 'se', 'en', 'que', 'medida', 'quedo', 'platicar', 'lo', 'no', 'es', 'como', 'que', 'ha', 'hermana', 'porque', 'me', 'hablar', 'la', 'lactancia', 'pero', 'liga', 'no', 'es', 'lo', 'que', 'esto', 'vivienda', 'ahorita', 'es', 'como', 'le', 'digno', 'a', 'los', 'que', 'me', 'rodear', 'hermano', 'ahorita', 'mi', 'tema', 'más', 'interesante', 'es', 'cuenta', 'leche', 'me', 'salir', 'pero', 'todo', 'el', 'día', 'esto', 'en', 'eso', 'y', 'la', 'verdad', 'es', 'que', 'por', 'mi', 'parte', 'esto', 'enfoscada', 'en', 'dable', 'mi', 'tiempo', 'a', 'mi', 'debe', 'bueno', 'hablado', 'del', 'tiempo', 'y', 'que', 'ahora', 'esto', 'aquí', 'realmente', 'este', 'es', 'mi', 'momento', 'libre', 'es', 'que', 'cuando', 'lo', 'veras', 'desde', 'lejos', 'no', 'dimensional', 'la', 'cabrón', 'ura', 'que', 'es', 'ser', 'mamá', 'amigo', 'es', 'una', 'cosa', 'cabrina', 'yo', 'a', 'veras', 'tenso', 'que', 'ir', 'a', 'hacer', 'mis', 'necesidad', 'personal', 'al', 'baño', 'y', 'yo', 'sentada', 'y', 'es', 'una', 'cosa', 'que', 'te', 'jueves', 'más', 'feroz', 'te', 'jueves', 'a', 'jugar', 'si', 'ya', 'crear', 'que', 'era', 'increíble', 'ahora', 'el', 'triple', 'de', 'increíble', 'les', 'hoy', 'a', 'contar', 'de', 'que', 'a', 'a', 'tratar', 'este', 'víreo', 'amos', 'a', 'compartir', 'diverso', 'momento', 'de', 'esta', 'semana', 'del', 'momento', 'que', 'tenia', 'libre', 'no', 'se', 'que', 'a', 'a', 'ser', 'pero', 'yo', 'se', 'los', 'hoy', 'a', 'compartir', 'si', 'quieto', 'estar', 'aquí', 'más', 'seguido', 'y', 'mientras', 'me', 'acomodo', 'esto', 'a', 'a', 'ser', 'yo', 'no', 'quieto', 'dejar', 'esto', 'no', 'lo', 'que', 'dejar', 'porque', 'es', 'parte', 'de', 'lo', 'que', 'a', 'mí', 'me', 'hacer', 'feliz', 'sin', 'tanto', 'orden', 'pero', 'con', 'mucho', 'amor', 'que', 'bueno', 'volver', 'a', 'ver', 'as', 'yo', 'son', 'un', 'poquito', 'en', 'mi', 'mente', 'esta', 'vela', 'le', 'a', 'a', 'dar', 'el', 'toque', 'romántico', 'a', 'nuestro', 'encuentro', 'pero', 'crea', 'que', 'no', 'se', 've', 'porque', 'lo', 'te', 'apoyo', 'en', 'fin', 'cuando', 'me', 'doy', 'mi', 'tiempo', 'esto', 'de', 'buena', 'o', 'mala', 'de', 'buena', 'como', 'que', 'tenso', 'más', 'energía', 'tenso', 'ganar', 'de', 'hacer', 'más', 'cosa', 'son', 'un', 'poco', 'más', 'amena', 'para', 'los', 'demás', 'porque', 'es', 'que', 'ahorita', 'mi', 'energía', 'mis', 'hormonal', 'me', 'esto', 'dado', 'de', 'pronto', 'entonces', 'de', 'pronto', 'postal', 'mi', 'oro', 'que', 'lleva', 'dentro', 'pero', 'cuando', 'me', 'doy', 'este', 'tiempo', 'porque', 'las', 'duda', 'gluten', 'más', 'lindo', 'los', 'miente', 'las', 'veras', 'hoy', 'hermano', 'ya', 'les', 'hoy', 'a', 'ir', 'comparendo', 'lo', 'que', 'he', 'estado', 'y', 'hacienda', 'porque', 'ya', 'amos', 'entrado', 'en', 'confianza', 'y', 'si', 'quieto', 'hacer', 'esto', 'pues', 'es', 'lo', 'que', 'a', 'a', 'estar', 'sucedido', 'mientras', 'me', 'pongo', 'mis', 'color', 'y', 'os', 'hoy', 'a', 'sacar', 'la', 'leche', 'porque', 'es', 'que', 'así', 'es', 'esto', 'seguramente', 'mucho', 'de', 'usted', 'son', 'mamá', 'y', 'esto', 'que', 'les', 'esto', 'platinado', 'es', 'lo', 'más', 'relevante', 'del', 'mundo', 'que', 'a', 'lo', 'mejor', 'sí', 'lo', 'es', 'pero', 'es', 'que', 'a', 'mí', 'me', 'emocional', 'mucho', 'que', 'para', 'mí', 'esto', 'es', 'un', 'reto', 'honestamente', 'no', 'ha', 'sino', 'nada', 'fácil', 'no', 'por', 'lo', 'difícil', 'me', 'retiro', 'a', 'que', 'no', 'me', 'gusto', 'es', 'muy', 'agotador', 'prestar', 'una', 'cosa', 'hermosa', 'que', 'siempre', 'ayer', 'como', 'bien', 'que', 'el', 'mar', 'se', 'despierta', 'cada', 'hora', 'y', 'claro', 'la', 'verdad', 'me', 'lo', 'disfrute', 'o', 'algo', 'que', 'me', 'funcionar', 'ya', 'no', 'tener', 'cinta', 'de', 'cosa', 'con', 'estas', 'son', 'variar', 'cosa', 'porque', 'me', 'las', 'traje', 'de', 'la', 'casa', 'donde', 'estafa', 'pero', 'una', 'bolsa', 'en', 'donde', 'tenia', 'absolutamente', 'todo', 'para', 'ya', 'no', 'estar', 'buscador', 'tener', 'todo', 'separador', 'que', 'luego', 'les', 'a', 'a', 'ser', 'como', 'viento', 'pinta', 'no', 'me', 'y', 'lo', 'que', 'ha', 'adentro', 'si', 'usted', 'que', 'un', 'día', 'pero', 'la', 'verdad', 'es', 'que', 'me', 'lo', 'ha', 'veras', 'que', 'honestamente', 'me', 'de', 'mucha', 'flojera', 'de', 'hacer', 'pues', 'todo', 'este', 'bote', 'que', 'ha', 'veras', 'en', 'las', 'que', 'sólo', 'quieto', 'bañar', 'para', 'estar', 'en', 'pijama', 'estar', 'cómoda', 'antes', 'no', 'me', 'peonía', 'color', 'dorado', 'en', 'el', 'lagrimal', 'y', 'ahora', 'me', 'encanto', 'es', 'que', 'no', 'les', 'quieto', 'mostrar', 'porque', 'esta', 'paleta', 'es', 'la', 'de', 'la', 'batalla', 'le', 'pega', 'estas', 'cosa', 'porque', 'así', 'pago', 'mis', 'anotación', 'de', 'los', 'producto', 'pero', 'bueno', 'de', 'esta', 'que', 'se', 'llama', 'ahora', 'de', 'oro', 'entonces', 'ahora', 'lo', 'pongo', 'en', 'el', 'lagrimal', 'dorado', 'como', 'se', 've', 'antes', 'yo', 'deca', 'no', 'yo', 'no', 'se', 'como', 'hacer', 'la', 'gente', 'que', 'esto', 'lista', 'en', 'quince', 'minuto', 'ha', 'que', 'la', 'norma', 'nadie', 'se', 'hacer', 'eso', 'porque', 'no', 'lo', 'viva', 'viva', 'la', 'presión', 'de', 'la', 'vida', 'pero', 'ahora', 'yo', 'esto', 'lista', 'en', 'cinco', 'luego', 'me', 'pongo', 'un', 'poco', 'de', 'este', 'que', 'se', 'llama', 'un', 'deseo', 'que', 'es', 'como', 'bronce', 'me', 'lo', 'pongo', 'en', 'todo', 'lo', 'demás', 'al', 'igual', 'que', 'tique', 'tique', 'tique', 'tuba', 'es', 'más', 'probable', 'que', 'a', 'como', 'de', 'las', 'ceja', 'a', 'que', 'me', 'moquillo', 'cualquier', 'otra', 'parte', 'de', 'la', 'cara', 'o', 'los', 'labio', 'tú', 'que', 'yo', 'son', 'flor', 'yo', 'son', 'bloque', 'parecer', 'lo', 'pago', 'si', 'lo', 'disfrute', 'la', 'verdad', 'que', 'últimamente', 'no', 'mucho', 'lo', 'único', 'que', 'quieto', 'es', 'aprovechar', 'el', 'tiempo', 'para', 'dormir', 'o', 'algo', 'no', 'saber', 'lo', 'que', 'acabada', 'de', 'hacer', 'casi', 'casi', 'cometa', 'la', 'tragedia', 'de', 'la', 'navidad', 'poco', 'me', 'paso', 'enero', 'ellos', 'a', 'su', 'vez', 'pero', 'casi', 'incendio', 'mi', 'hogar', 'o', 'bien', 'pues', 'ya', 'ha', 'un', 'babel', 'y', 'testa', 'que', 'pues', 'para', 'el', 'romance', 'con', 'usted', 'de', 'pronto', 'empiece', 'a', 'sentir', 'que', 'ola', 'simpático', 'a', 'no', 'les', 'habla', 'practicador', 'pero', 'esto', 'uve', 'una', 'vitamina', 'que', 'hacer', 'que', 'la', 'mayoría', 'de', 'alimento', 'me', 'sapan', 'a', 'una', 'cosa', 'rara', 'y', 'bueno', 'me', 'empezar', 'a', 'llegar', 'el', 'maldito', 'olor', 'entonces', 'ya', 'esa', 'hora', 'las', 'veras', 'me', 'huella', 'a', 'esto', 'volteo', 'que', 'vez', 'que', 'se', 'me', 'esto', 'unido', 'el', 'mueble', 'cita', 'de', 'arriba', 'pero', 'esto', 'bien', 'se', 'ha', 'acabado', 'con', 'la', 'vela', 'del', 'romance', 'origen', 'pues', 'que', 'les', 'cuento', 'esto', 'realmente', 'contenta', 'en', 'mi', 'gracia', 'antes', 'yo', 'deca', 'que', 'trabajo', 'hacia', 'feliz', 'ahora', 'esto', 'es', 'como', 'terapéutico', 'es', 'como', 'platicar', 'conversar', 'desahogar', 'más', 'bien', 'porque', 'si', 'es', 'como', 'ir', 'a', 'terapia', 'no', 'se', 'que', 'esto', 'pasado', 'con', 'estas', 'pestaña', 'que', 'tenso', 'que', 'me', 'esto', 'crecido', 'en', 'nube', 'este', 'para', 'allá', 'y', 'este', 'para', 'acá', 'y', 'las', 'ceja', 'las', 'ceja', 'para', 'mí', 'sí', 'son', 'importante', 'o', 'se', 'si', 'me', 'gusto', 'como', 'dares', 'el', 'tiempo', 'merecido', 'esto', 'para', 'arriba', 'rápido', 'y', 'una', 'pasada', 'porque', 'esta', 'cosa', 'es', 'si', 'que', 'física', 'este', 'es', 'no', 'dable', 'tanta', 'pasada', 'no', 'manipular', 'mucho', 'me', 'gusto', 'que', 'se', 'me', 'queda', 'pegadizo', 'esto', 'enfrente', 'y', 'ahora', 'que', 'si', 'se', 'me', 'casa', 'el', 'cabello', 'antes', 'ahora', 'mucho', 'más', 'quizá', 'es', 'que', 'no', 'me', 'interese', 'pero', 'debe', 'mostrar', 'porque', 'me', 'vice', 'nada', 'de', 'lluvia', 'como', 'limiste', 'tú', 'para', 'que', 'no', 'se', 'cadera', 'el', 'calle', 'pelar', 'el', 'cabello', 'del', 'embarazo', 'pues', 'si', 'se', 'me', 'esto', 'cayado', 'y', 'se', 'me', 'caer', 'a', 'puño', 'no', 'nos', 'interese', 'lo', 'que', 'sí', 'es', 'que', 'tenso', 'estos', 'delito', 'que', 'me', 'gusto', 'aplacar', 'los', 'y', 'nada', 'más', 'no', 'entonces', 'con', 'este', 'el', 'pero', 'poquito', 'porque', 'si', 'no', 'me', 'deja', 'muy', 'relamida', 'tanta', 'si', 'esto', 'ya', 'esto', 'tras', 'estas', 'esto', 'aquí', 'mirar', 'al', 'favorito', 'es', 'que', 'si', 'no', 'me', 'falla', 'es', 'que', 'le', 'digno', 'que', 'esto', 'como', 'repitiente', 'seguramente', 'en', 'una', 'dos', 'semana', 'hoy', 'a', 'traer', 'un', 'nuevo', 'invento', 'pero', 'por', 'ahorita', 'esto', 'es', 'lo', 'que', 'esto', 'usado', 'este', 'es', 'el', 'adala', 'y', 'la', 'ya', 'no', 'saber', 'no', 'saber', 'lo', 'que', 'me', 'encanto', 'por', 'último', 'tan', 'a', 'necesitar', 'a', 'su', 'perito', 'de', 'confianza', 'o', 'estados', 'listo', 'para', 'trabajar', 'y', 'seguir', 'cuidado', 'al', 'crío', 'ye', 'a', 'mí', 'me', 'salir', 'un', 'hijo', 'que', 'como', 'una', 'cosa', 'que', 'se', 'esto', 'acabado', 'a', 'su', 'madre', 'no', 'se', 'como', 'me', 'diminuto', 'cuerpo', 'esto', 'hacienda', 'para', 'alimentar', 'a', 'este', 'pequeño', 'ser', 'humano', 'que', 'como', 'y', 'comer', 'y', 'comer', 'y', 'comer', 'y', 'comer', 'tizne', 'no', 'hola', 'yo', 'son', 'ese', 'tipo', 'de', 'persona', 'que', 'siempre', 'se', 'poner', 'más', 'compromiso', 'encima', 'y', 'luego', 'no', 'quedo', 'parar', 'con', 'el', 'entrés', 'normalmente', 'yo', 'organizar', 'las', 'navidad', 'entonces', 'asiento', 'que', 'es', 'algo', 'que', 'ya', 'me', 'echar', 'encima', 'que', 'me', 'gusto', 'mucho', 'pero', 'no', 'me', 'esto', 'dado', 'la', 'vida', 'entonces', 'bueno', 'esto', 'en', 'esos', 'último', 'detalle', 'no', 'les', 'habla', 'platinado', 'pero', 'tenso', 'una', 'amiga', 'una', 'gaita', 'amiga', 'que', 'por', 'algún', 'motivo', 'no', 'se', 'cual', 'clac', 'desde', 'el', 'segundo', 'uno', 'que', 'de', 'pronto', 'los', 'garito', 'suelo', 'ser', 'como', 'más', 'precario', 'esta', 'gaita', 'en', 'verdad', 'es', 'una', 'de', 'ellas', 'ya', 'le', 'esto', 'buscador', 'el', 'dueño', 'he', 'tocado', 'las', 'caja', 'pero', 'no', 'le', 'encuentro', 'dueño', 'entonces', 'probablemente', 'ya', 'la', 'lleva', 'a', 'esterilizar', 'y', 'la', 'de', 'en', 'adopción', 'me', 'gustar', 'quedar', 'la', 'pro', 'seria', 'muy', 'irresponsable', 'de', 'mi', 'parte', 'punto', 'es', 'que', 'también', 'bien', 'a', 'la', 'casa', 'y', 'aquí', 'comer', 'y', 'no', 'le', 'compra', 'un', 'megalito', 'de', 'navidad', 'que', 'es', 'un', 'collar', 'se', 'las', 'a', 'a', 'presentar', 'esto', 'divina', 'pero', 'impresionante', 'normalmente', 'nos', 'encontrado', 'por', 'acá', 'chiquita', 'gigantina', 'te', 'triste', 'collar', 'mirar', 'de', 'chiquita', 'que', 'mal', 'ah', 'cuerpo', 'hoy', 'esto', 'feliz', 'les', 'hoy', 'a', 'mostrar', 'por', 'fin', 'mando', 'a', 'ser', 'un', 'buey', 'de', 'éxito', 'desde', 'hacer', 'un', 'buen', 'tiempo', 'para', 'amar', 'como', 'para', 'cambiar', 'para', 'sacar', 'estados', 'bañado', 'la', 'noche', 'y', 'la', 'noche', 'se', 'que', 'más', 'frío', 'entonces', 'bueno', 'el', 'punto', 'es', 'que', 'mando', 'a', 'ser', 'un', 'pueblerino', 'para', 'guardar', 'sus', 'costa', 'para', 'caballo', 'año', 'para', 'el', 'cambiador', 'y', 'se', 'queda', 'hermoso', 'pero', 'a', 'mí', 'me', 'encanto', 'esto', 'en', 'estos', 'cajonera', 'estados', 'guardado', 'luego', 'les', 'nuestro', 'cuando', 'más', 'orden', 'hola', 'esto', 'impresionar', 'con', 'lo', 'rápido', 'que', 'los', 'debe', 'cambiar', 'la', 'ropa', 'algo', 'vida', 'hacer', 'alguna', 'semana', 'me', 'escribir', 'para', 'mandar', 'alguna', 'ropa', 'para', 'mimar', 'europa', 'a', 'muy', 'buen', 'precio', 'y', 'aparte', 'al', 'variedad', 'de', 'diseño', 'lo', 'mostrar', 'tres', 'que', 'a', 'mí', 'me', 'encantado', 'pero', 'para', 'mostrar', 'mi', 'favorita', 'de', 'que', 'es', 'esta', 'hermosura', 'que', 'es', 'esto', 'me', 'encanto', 'me', 'encanto', 'iguana', 'mirado', 'un', 'código', 'de', 'descuento', 'para', 'usted', 'en', 'la', 'parte', 'de', 'abajo', 'se', 'los', 'hoy', 'a', 'dejar', 'también', 'culas', 'a', 'a', 'poner', 'hasta', 'cuando', 'es', 'válido', 'para', 'dejar', 'libre', 'hoy', 'a', 'dar', 'toda', 'la', 'ninfo', 'para', 'que', 'los', 'queda', 'seguir', 'ver', 'toda', 'las', 'cosa', 'linda', 'que', 'tener', 'esto', 'me', 'encanto', 'y', 'les', 'con', 'tu', 'playera', 'verdad', 'guau', 'encanto', 'me', 'encanto', 'parte', 'estudio', 'no', 'tener', 'que', 'pensar', 'en', 'que', 'poner', 'dentro', 'porque', 'tener', 'demasiado', 'que', 'este', 'año', 'lo', 'que', 'esto', 'intestado', 'es', 'regalar', 'cosa', 'que', 'podador', 'compartir', 'todo', 'lo', 'vice', 'a', 'la', 'última', 'hora', 'pero', 'bueno', 'no', 'pasa', 'nada', 'esta', 'rosa', 'que', 'esto', 'ahí', 'es', 'de', 'majo', 'pero', 'a', 'a', 'saber', 'de', 'la', 'magia', 'hasta', 'que', 'nos', 'a', 'jugar', 'con', 'ella', 'porque', 'le', 'encantar', 'las', 'pelota', 'este', 'es', 'el', 'regalo', 'de', 'majo', 'y', 'al', 'ser', 'honesto', 'es', 'lento', 'bajo', 'pero', 'hasta', 'la', 'navidad', 'no', 'lo', 'pues', 'esta', 'es', 'para', 'el', 'papá', 'de', 'mar', 'porque', 'siempre', 'dije', 'que', 'le', 'hacer', 'para', 'una', 'guitarra', 'de', 'pequeño', 'espera', 'que', 'le', 'gusto', 'atrás', 'ha', 'un', 'regalo', 'que', 'ese', 'no', 'lo', 'hoy', 'a', 'regalar', 'a', 'nadie', 'crea', 'que', 'es', 'mi', 'regalo', 'eso', 'es', 'pero', 'yo', 'no', 'se', 'no', 'se', 'quieto', 'pensar', 'que', 'sí', 'porque', 'me', 'maría', 'mucha', 'ilusión', 'hombre', 'les', 'vale', 'ya', 'que', 'pasa', 'me', 'pago', 'la', 'la', 'que', 'no', 'en', 'pero', 'ósea', 'me', 'imagen', 'que', 'es', 'parte', 'este', 'mar', 'no', 'tizne', 'juguete', 'pero', 'le', 'compresa', 'calceta', 'son', 'como', 'para', 'estimular', 'a', 'mar', 'una', 'costa', 'para', 'las', 'muñeca', 'para', 'que', 'y', 'un', 'tapete', 'que', 'todavía', 'no', 'ha', 'llegado', 'un', 'tapete', 'para', 'que', 'podador', 'jugar', 'con', 'él', 'estos', 'son', 'sus', 'regalo', 'de', 'navidad', 'en', 'este', 'momento', 'de', 'mi', 'vida', 'esto', 'en', 'un', 'proceso', 'en', 'el', 'que', 'quieto', 'trabajar', 'deseo', 'trabajar', 'deseo', 'volver', 'a', 'grabar', 'deseo', 'volver', 'le', 'atrás', 'mis', 'cien', 'a', 'la', 'marca', 'quieto', 'hacer', 'todo', 'por', 'también', 'quieto', 'estar', 'cien', 'con', 'mar', 'entonces', 'durante', 'mucho', 'tiempo', 'este', 'pensado', 'como', 'quedo', 'adaptar', 'mi', 'vida', 'a', 'esto', 'que', 'me', 'esto', 'sucedido', 'ahorita', 'esto', 'de', 'caer', 'así', 'me', 'comer', 'no', 'necesitar', 'adaptar', 'a', 'nada', 'necesitar', 'construir', 'una', 'historia', 'con', 'esto', 'que', 'me', 'esto', 'sucedido', 'ahorita', 'no', 'es', 'como', 'que', 'hoy', 'ahora', 'me', 'tenso', 'que', 'adaptar', 'los', 'tiempo', 'claro', 'que', 'no', 'mi', 'pasado', 'y', 'así', 'que', 'vaya', 'entonces', 'lo', 'que', 'tenso', 'es', 'este', 'momento', 'entonces', 'no', 'lo', 'amos', 'a', 'gozar', 'yo', 'acá', 'con', 'mi', 'criba', 'heria', 'entonces', 'bueno', 'combinado', 'el', 'tema', 'amos', 'a', 'usar', 'este', 'momento', 'hoy', 'en', 'el', 'mar', 'se', 'dormir', 'un', 'ramito', 'entonces', 'experta', 'atrás', 'atrás', 'atrás', 'atrás', 'y', 'esto', 'contado', 'en', 'este', 'árbol', 'que', 'ya', 'es', 'del', 'año', 'de', 'la', 'inquisición', 'que', 'me', 'encanto', 'me', 'parecer', 'que', 'es', 'una', 'elección', 'bonísima', 'porque', 'ha', 'duradero', 'lo', 'único', 'que', 'bueno', 'tizne', 'nos', 'foco', 'a', 'que', 'o', 'se', 'mi', 'idea', 'era', 'pues', 'no', 'comprar', 'más', 'estas', 'cosa', 'porque', 'se', 'enredar', 'se', 'funda', 'tener', 'que', 'conseguir', 'conseguir', 'estos', 'esclavo', 'que', 'el', 'árbol', 'tenia', 'sus', 'pinche', 'ahora', 'que', 'lo', 'tenso', 'se', 'me', 'las', 'las', 'lunes', 'de', 'y', 'no', 'se', 'por', 'que', 'les', 'esto', 'contado', 'tanta', 'tontera', 'y', 'esto', 'como', 'iluminado', 'arriba', 'iluminada', 'hoy', 'el', 'centro', 'esto', 'apagado', 'entonces', 'se', 'los', 'quera', 'compartir', 'por', 'si', 'quien', 'comprar', 'uno', 'de', 'estos', 'que', 'se', 'la', 'pienso', 'o', 'los', 'a', 'a', 'mostrar', 'las', 'son', 'las', 'misma', 'de', 'los', 'año', 'pasado', 'pero', 'esta', 'vez', 'le', 'hoy', 'a', 'hacer', 'nos', 'que', 'a', 'lo', 'mejor', 'si', 'se', 'la', 'platino', 'usted', 'también', 'lo', 'aplicar', 'en', 'sus', 'decorada', 'no', 'lo', 'se', 'o', 'mi', 'hombre', 'esto', 'hacienda', 'para', 'de', 'grabar', 'porque', 'que', 'tras', 'treinta', 'y', 'tres', 'tras', 'no', 'mejorar', 'el', 'mencionar', 'ninguno', 'tenso', 'hasta', 'dos', 'feria', 'que', 'son', 'hermosa', 'me', 'encantar', 'verdad', 'te', 'gusto', 'planeta', 'es', 'tan', 'bella', 'sus', 'exquisito', 'que', 'tener', 'ya', 'que', 'estas', 'esfera', 'son', 'súper', 'barata', 'las', 'se', 'encuentro', 'a', 'muy', 'buen', 'precio', 'esta', 'costa', 'yo', 'se', 'la', 'pues', 'para', 'que', 'se', 'vieja', 'como', 'más', 'lindo', 'y', 'luego', 'cheque', 'se', 'estas', 'las', 'encuentro', 'en', 'los', 'mercado', 'tal', 'cual', 'entonces', 'ya', 'en', 'que', 'esto', 'se', 'lo', 'quitar', 'y', 'a', 'esto', 'que', 'adentro', 'lo', 'poner', 'naturaleza', 'muerta', 'bueno', 'no', 'muerta', 'bueno', 'sin', 'muerte', 'naturaleza', 'seca', 'y', 'no', 'nos', 'gusto', 'decir', 'la', 'palabra', 'naturaleza', 'muerta', 'pero', 'si', 'a', 'a', 'cambiar', 'el', 'árbol', 'en', 'o', 'a', 'a', 'ser', 'lo', 'mismo', 'le', 'hoy', 'a', 'meter', 'sus', 'toque', 'y', 'ellos', 'les', 'a', 'a', 'mostrar', 'esto', 'es', 'que', 'tenso', 'esto', 'aquí', 'cada', 'que', 'me', 'regalar', 'floreo', 'yo', 'hoy', 'poniente', 'como', 'toda', 'estas', 'porque', 'se', 'me', 'hacer', 'súper', 'bonita', 'y', 'aparte', 'y', 'huella', 'muy', 'bien', 'solo', 'que', 'esto', 'muy', 'seca', 'esto', 'luego', 'las', 'uva', 'y', 'navidad', 'a', 'mí', 'me', 'encantada', 'que', 'se', 'veras', 'menos', 'feo', 'la', 'parte', 'de', 'abajo', 'de', 'los', 'árbol', 'de', 'navidad', 'porque', 'las', 'práctica', 'allí', 'plástica', 'no', 'me', 'gustar', 'entonces', 'le', 'pongo', 'así', 'como', 'este', 'tipo', 'de', 'costa', 'no', 'se', 'si', 'ya', 'esto', 'esto', 'como', 'súper', 'acusado', 'pero', 'por', 'eso', 'pienso', 'que', 'hasta', 'estas', 'crea', 'que', 'se', 'llama', 'tanta', 'hasta', 'las', 'poesía', 'meter', 'por', 'acá', 'si', 'me', 'gusto', 'siempre', 'me', 'tira', 'al', 'suelo', 'las', 'por', 'que', 'no', 'talento', 'rota', 'en', 'menos', 'de', 'cinco', 'segundo', 'yo', 'siempre', 'tizne', 'el', 'consejo', 'para', 'hacer', 'lo', 'contrario', 'lo', 'que', 'me', 'aconsejar', 'no', 'lo', 'esto', 'presumido', 'me', 'digno', 'que', 'se', 'un', 'bien', 'pero', 'así', 'siempre', 'siempre', 'esto', 'es', 'mirar', 'tus', 'sabio', 'consejo', 'de', 'decorador', 'de', 'interior', 'de', 'los', 'clave', 'en', 'el', 'corazón', 'agüista', 'esto', 'en', 'la', 'esfera', 'que', 'les', 'deca', 'que', 'en', 'el', 'mercado', 'entonces', 'poner', 'floreo', 'o', 'naturaleza', 'y', 'se', 'esto', 'esto', 'yo', 'crea', 'que', 'más', 'difícil', 'de', 'poner', 'porque', 'eso', 'esto', 'más', 'seca', 'que', 'mis', 'con', 'la', 'decoración', 'navideña', 'o', 'se', 'de', 'lo', 'que', 'yo', 'les', 'digno', 'es', 'que', 'acá', 'pues', 'meter', 'naturaleza', 'de', 'hecho', 'crea', 'que', 'tenso', 'foto', 'en', 'instaurar', 'de', 'cuando', 'he', 'hecho', 'esto', 'esto', 'pero', 'compra', 'en', 'un', 'pueblo', 'me', 'encanto', 'o', 'se', 'yo', 'lo', 'mi', 'me', 'abra', 'los', 'ojo', 'y', 'pensar', 'en', 'usar', 'de', 'mucha', 'manera', 'claramente', 'esto', 'esto', 'así', 'que', 'hermana', 'relajante', 'esto', 'no', 'esto', 'bien', 'esto', 'no', 'lo', 'usiría', 'si', 'realmente', 'lo', 'pensar', 'para', 'decoración', 'pero', 'mientras', 'lo', 'deca', 'pensar', 'que', 'colgar', 'malo', 'también', 'seria', 'una', 'bonita', 'pero', 'no', 'ha', 'ave', 'que', 'no', 'esto', 'asiento', 'que', 'para', 'una', 'ofrenda', 'del', 'día', 'de', 'muerto', 'se', 'verga', 'de', 'próximo', 'así', 'con', 'veras', 'y', 'las', 'foto', 'de', 'tus', 'persona', 'fueras', 'me', 'gusto', 'pero', 'ahora', 'que', 'quieto', 'dable', 'un', 'poco', 'de', 'color', 'pensar', 'en', 'enrollado', 'si', 'te', 'gusto', 'de', 'su', 'gusto', 'primera', 'verdad', 'es', 'no', 'lo', 'hasta', 'más', 'como', 'parada', 'si', 'ese', 'se', 'yo', 'ahorita', 'no', 'tenso', 'tiempo', 'para', 'salir', 'de', 'la', 'casa', 'entonces', 'tenso', 'que', 'buscar', 'la', 'manera', 'de', 'hacer', 'lo', 'que', 'me', 'gusto', 'desde', 'aquí', 'entonces', 'vice', 'estas', 'tipo', 'de', 'esfera', 'que', 'no', 'son', 'esfera', 'decoración', 'el', 'mejor', 'dicho', 'que', 'me', 'encanto', 'aun', 'me', 'gusto', 'el', 'resultado', 'les', 'hoy', 'a', 'el', 'tutora', 'justo', 'entre', 'veintiuno', 'ahí', 'amos', 'a', 'necesitar', 'papel', 'grant', 'y', 'lo', 'amos', 'a', 'cortar', 'en', 'de', 'diez', 'a', 'diez', 'centímetro', 'harem', 'un', 'doblez', 'por', 'la', 'mitad', 'y', 'otro', 'doblez', 'más', 'por', 'la', 'misma', 'mitad', 'nos', 'en', 'uno', 'de', 'los', 'costado', 'y', 'desdoblar', 'menos', 'cuando', 'nuestro', 'cuadro', 'entendido', 'ya', 'con', 'los', 'corte', 'harem', 'doblete', 'en', 'forma', 'de', 'abanico', 'por', 'la', 'mitad', 'y', 'lo', 'harem', 'dos', 'más', 'de', 'la', 'misma', 'manera', 'y', 'las', 'tres', 'parte', 'para', 'formar', 'nuestra', 'estrella', 'luego', 'harem', 'una', 'estrella', 'más', 'pequeña', 'de', 'cinco', 'por', 'cinco', 'centímetro', 'siguiente', 'los', 'mismo', 'paso', 'y', 'la', 'a', 'la', 'otra', 'para', 'dable', 'un', 'toque', 'especial', 'le', 'agregado', 'una', 'cuentista', 'en', 'el', 'centro', 'y', 'para', 'poder', 'colgar', 'un', 'lacio', 'por', 'la', 'parte', 'de', 'atrás', 'por', 'la', 'realmente', 'son', 'fácil', 'de', 'hacer', 'mis', 'línea', 'ya', 'saber', 'como', 'son', 'así', 'que', 'vaya', 'en', 'círculo', 'que', 'le', 'pongo', 'en', 'círculo', 'pues', 'así', 'porque', 'no', 'se', 'pues', 'de', 'mucha', 'manera', 'si', 'se', 've', 'bien', 'rara', 'como', 'si', 'mies', 'no', 'tanto', 'o', 'ya', 'no', 'nos', 'convención', 'usted', 'no', 'esto', 'para', 'saber', 'pero', 'yo', 'son', 'muy', 'aforrada', 'a', 'fuerza', 'quieto', 'poner', 'en', 'el', 'árbol', 'no', 'me', 'importar', 'como', 'pero', 'yo', 'lo', 'que', 'prologar', 'aquí', 'tizne', 'un', 'lo', 'que', 'hoy', 'a', 'hacer', 'es', 'clavar', 'las', 'y', 'llenar', 'el', 'árbol', 'o', 'se', 'que', 'se', 'esto', 'súper', 'colorido', 'siempre', 'esto', 'medio', 'como', 'ha', 'color', 'neutro', 'para', 'el', 'arbolado', 'y', 'de', 'hoy', 'hoy', 'quieto', 'color', 'y', 'hoy', 'a', 'poner', 'color', 'que', 'se', 'me', 'hacer', 'que', 'hoy', 'a', 'seguir', 'llegado', 'mañana', 'ya', 'con', 'una', 'luz', 'como', 'más', 'desentonar', 'ya', 'les', 'nuestro', 'como', 'queda', 'pero', 'ya', 'la', 'noción', 'es', 'así', 'ya', 'de', 'emoción', 'crea', 'que', 'esto', 'a', 'a', 'quedar', 'súper', 'bonito', 'entonces', 'bueno', 'hoy', 'a', 'poner', 'los', 'amos', 'a', 'dormir', 'y', 'mañana', 'les', 'nuestro', 'el', 'resultado', 'les', 'parecer', 'de', 'hoy', 'origen', 'este', 'forma', 'mar', 'amarillo', 'o', 'estar', 'tranquilo', 'y', 'yo', 'hoy', 'a', 'aprovechar', 'este', 'tiempo', 'para', 'trabajar', 'un', 'ramito', 'y', 'hacer', 'una', 'y', 'después', 'me', 'hoy', 'a', 'ir', 'a', 'dormir', 'con', 'ellos']\n",
      "Contenido modificado: ['más' 'hoy' 'a' 'explicar' 'todo' 'lo' 'que' 'te' 'extraño' 'te'\n",
      " 'extraño' 'demasiado' 'ahora' 'podre' 'como' 'es' 'tan' 'diario' 'yo'\n",
      " 'son' 'yo' 'ya' 'juego' 'amigo' 'a' 'día' 'ha' 'llegado' 'el' 'momento'\n",
      " 'de' 'a' 'encontrar' 'ahora' 'sí' 'que' 'no' 'realmente' 'no' 'poda'\n",
      " 'usar' 'no' 'me' 'acomodada' 'pasado' 'mucha' 'cosa' 'ha' 'sino'\n",
      " 'hermoso' 'y' 'caótico' 'también' 'esto' 'que' 'en' 'acá' 'es' 'que'\n",
      " 'mar' 'no' 'le' 'gustar' 'los' 'chupona' 'entonces' 'ha' 'veras' 'que'\n",
      " 'no' 'quier' 'comer' 'no' 'quier' 'que' 'les' 'dable' 'leche' 'solamente'\n",
      " 'te' 'quita' 'que' 'te' 'quien' 'y' 'brasa' 'pero' 'no' 'importar'\n",
      " 'cuando' 'pensar' 'que' 'ya' 'volver' 'justo' 'amar' 'le' 'dios' 'su'\n",
      " 'primera']\n"
     ]
    },
    {
     "ename": "KeyboardInterrupt",
     "evalue": "",
     "output_type": "error",
     "traceback": [
      "\u001b[0;31m---------------------------------------------------------------------------\u001b[0m",
      "\u001b[0;31mKeyboardInterrupt\u001b[0m                         Traceback (most recent call last)",
      "Cell \u001b[0;32mIn[10], line 40\u001b[0m\n\u001b[1;32m     38\u001b[0m \u001b[38;5;28;01mwith\u001b[39;00m \u001b[38;5;28mopen\u001b[39m(os\u001b[38;5;241m.\u001b[39mpath\u001b[38;5;241m.\u001b[39mjoin(input_directory, filename), \u001b[38;5;124m'\u001b[39m\u001b[38;5;124mr\u001b[39m\u001b[38;5;124m'\u001b[39m, encoding\u001b[38;5;241m=\u001b[39m\u001b[38;5;124m'\u001b[39m\u001b[38;5;124mutf-8\u001b[39m\u001b[38;5;124m'\u001b[39m) \u001b[38;5;28;01mas\u001b[39;00m file:\n\u001b[1;32m     39\u001b[0m     text \u001b[38;5;241m=\u001b[39m file\u001b[38;5;241m.\u001b[39mread()\n\u001b[0;32m---> 40\u001b[0m     spelled_text \u001b[38;5;241m=\u001b[39m \u001b[43mcorrect_spelling\u001b[49m\u001b[43m(\u001b[49m\u001b[43mtext\u001b[49m\u001b[43m)\u001b[49m\n\u001b[1;32m     41\u001b[0m     \u001b[38;5;28mprint\u001b[39m(\u001b[38;5;124mf\u001b[39m\u001b[38;5;124m\"\u001b[39m\u001b[38;5;124mContenido modificado: \u001b[39m\u001b[38;5;132;01m{\u001b[39;00mspelled_text[:\u001b[38;5;241m100\u001b[39m]\u001b[38;5;132;01m}\u001b[39;00m\u001b[38;5;124m\"\u001b[39m)\n\u001b[1;32m     42\u001b[0m     \u001b[38;5;28;01mwith\u001b[39;00m \u001b[38;5;28mopen\u001b[39m(os\u001b[38;5;241m.\u001b[39mpath\u001b[38;5;241m.\u001b[39mjoin(output_directory, filename), \u001b[38;5;124m'\u001b[39m\u001b[38;5;124mw\u001b[39m\u001b[38;5;124m'\u001b[39m, encoding\u001b[38;5;241m=\u001b[39m\u001b[38;5;124m'\u001b[39m\u001b[38;5;124mutf-8\u001b[39m\u001b[38;5;124m'\u001b[39m) \u001b[38;5;28;01mas\u001b[39;00m out_file:\n",
      "Cell \u001b[0;32mIn[10], line 10\u001b[0m, in \u001b[0;36mcorrect_spelling\u001b[0;34m(text)\u001b[0m\n\u001b[1;32m      8\u001b[0m corrected_text \u001b[38;5;241m=\u001b[39m []\n\u001b[1;32m      9\u001b[0m \u001b[38;5;28;01mfor\u001b[39;00m word \u001b[38;5;129;01min\u001b[39;00m text\u001b[38;5;241m.\u001b[39msplit():\n\u001b[0;32m---> 10\u001b[0m     corrected_word \u001b[38;5;241m=\u001b[39m \u001b[43mspell\u001b[49m\u001b[38;5;241;43m.\u001b[39;49m\u001b[43mcorrection\u001b[49m\u001b[43m(\u001b[49m\u001b[43mword\u001b[49m\u001b[43m)\u001b[49m\n\u001b[1;32m     11\u001b[0m     \u001b[38;5;28;01mif\u001b[39;00m corrected_word \u001b[38;5;129;01mis\u001b[39;00m \u001b[38;5;129;01mnot\u001b[39;00m \u001b[38;5;28;01mNone\u001b[39;00m: corrected_text\u001b[38;5;241m.\u001b[39mappend(corrected_word)\n\u001b[1;32m     12\u001b[0m \u001b[38;5;28mprint\u001b[39m(corrected_text)\n",
      "File \u001b[0;32m/opt/conda/lib/python3.11/site-packages/spellchecker/spellchecker.py:158\u001b[0m, in \u001b[0;36mSpellChecker.correction\u001b[0;34m(self, word)\u001b[0m\n\u001b[1;32m    151\u001b[0m \u001b[38;5;250m\u001b[39m\u001b[38;5;124;03m\"\"\"The most probable correct spelling for the word\u001b[39;00m\n\u001b[1;32m    152\u001b[0m \n\u001b[1;32m    153\u001b[0m \u001b[38;5;124;03mArgs:\u001b[39;00m\n\u001b[1;32m    154\u001b[0m \u001b[38;5;124;03m    word (str): The word to correct\u001b[39;00m\n\u001b[1;32m    155\u001b[0m \u001b[38;5;124;03mReturns:\u001b[39;00m\n\u001b[1;32m    156\u001b[0m \u001b[38;5;124;03m    str: The most likely candidate or None if no correction is present\"\"\"\u001b[39;00m\n\u001b[1;32m    157\u001b[0m word \u001b[38;5;241m=\u001b[39m ensure_unicode(word)\n\u001b[0;32m--> 158\u001b[0m candidates \u001b[38;5;241m=\u001b[39m \u001b[38;5;28;43mself\u001b[39;49m\u001b[38;5;241;43m.\u001b[39;49m\u001b[43mcandidates\u001b[49m\u001b[43m(\u001b[49m\u001b[43mword\u001b[49m\u001b[43m)\u001b[49m\n\u001b[1;32m    159\u001b[0m \u001b[38;5;28;01mif\u001b[39;00m \u001b[38;5;129;01mnot\u001b[39;00m candidates:\n\u001b[1;32m    160\u001b[0m     \u001b[38;5;28;01mreturn\u001b[39;00m \u001b[38;5;28;01mNone\u001b[39;00m\n",
      "File \u001b[0;32m/opt/conda/lib/python3.11/site-packages/spellchecker/spellchecker.py:185\u001b[0m, in \u001b[0;36mSpellChecker.candidates\u001b[0;34m(self, word)\u001b[0m\n\u001b[1;32m    183\u001b[0m \u001b[38;5;66;03m# if still not found, use the edit distance 1 to calc edit distance 2\u001b[39;00m\n\u001b[1;32m    184\u001b[0m \u001b[38;5;28;01mif\u001b[39;00m \u001b[38;5;28mself\u001b[39m\u001b[38;5;241m.\u001b[39m_distance \u001b[38;5;241m==\u001b[39m \u001b[38;5;241m2\u001b[39m:\n\u001b[0;32m--> 185\u001b[0m     tmp \u001b[38;5;241m=\u001b[39m \u001b[38;5;28mself\u001b[39m\u001b[38;5;241m.\u001b[39mknown(\u001b[38;5;28mlist\u001b[39m(\u001b[38;5;28;43mself\u001b[39;49m\u001b[38;5;241;43m.\u001b[39;49m\u001b[43m__edit_distance_alt\u001b[49m\u001b[43m(\u001b[49m\u001b[43mres\u001b[49m\u001b[43m)\u001b[49m))\n\u001b[1;32m    186\u001b[0m     \u001b[38;5;28;01mif\u001b[39;00m tmp:\n\u001b[1;32m    187\u001b[0m         \u001b[38;5;28;01mreturn\u001b[39;00m tmp\n",
      "File \u001b[0;32m/opt/conda/lib/python3.11/site-packages/spellchecker/spellchecker.py:252\u001b[0m, in \u001b[0;36mSpellChecker.__edit_distance_alt\u001b[0;34m(self, words)\u001b[0m\n\u001b[1;32m    250\u001b[0m tmp_words \u001b[38;5;241m=\u001b[39m [ensure_unicode(w) \u001b[38;5;28;01mfor\u001b[39;00m w \u001b[38;5;129;01min\u001b[39;00m words]\n\u001b[1;32m    251\u001b[0m tmp \u001b[38;5;241m=\u001b[39m [w \u001b[38;5;28;01mif\u001b[39;00m \u001b[38;5;28mself\u001b[39m\u001b[38;5;241m.\u001b[39m_case_sensitive \u001b[38;5;28;01melse\u001b[39;00m w\u001b[38;5;241m.\u001b[39mlower() \u001b[38;5;28;01mfor\u001b[39;00m w \u001b[38;5;129;01min\u001b[39;00m tmp_words \u001b[38;5;28;01mif\u001b[39;00m \u001b[38;5;28mself\u001b[39m\u001b[38;5;241m.\u001b[39m_check_if_should_check(w)]\n\u001b[0;32m--> 252\u001b[0m \u001b[38;5;28;01mreturn\u001b[39;00m \u001b[43m[\u001b[49m\u001b[43me2\u001b[49m\u001b[43m \u001b[49m\u001b[38;5;28;43;01mfor\u001b[39;49;00m\u001b[43m \u001b[49m\u001b[43me1\u001b[49m\u001b[43m \u001b[49m\u001b[38;5;129;43;01min\u001b[39;49;00m\u001b[43m \u001b[49m\u001b[43mtmp\u001b[49m\u001b[43m \u001b[49m\u001b[38;5;28;43;01mfor\u001b[39;49;00m\u001b[43m \u001b[49m\u001b[43me2\u001b[49m\u001b[43m \u001b[49m\u001b[38;5;129;43;01min\u001b[39;49;00m\u001b[43m \u001b[49m\u001b[38;5;28;43mself\u001b[39;49m\u001b[38;5;241;43m.\u001b[39;49m\u001b[43mknown\u001b[49m\u001b[43m(\u001b[49m\u001b[38;5;28;43mself\u001b[39;49m\u001b[38;5;241;43m.\u001b[39;49m\u001b[43medit_distance_1\u001b[49m\u001b[43m(\u001b[49m\u001b[43me1\u001b[49m\u001b[43m)\u001b[49m\u001b[43m)\u001b[49m\u001b[43m]\u001b[49m\n",
      "File \u001b[0;32m/opt/conda/lib/python3.11/site-packages/spellchecker/spellchecker.py:252\u001b[0m, in \u001b[0;36m<listcomp>\u001b[0;34m(.0)\u001b[0m\n\u001b[1;32m    250\u001b[0m tmp_words \u001b[38;5;241m=\u001b[39m [ensure_unicode(w) \u001b[38;5;28;01mfor\u001b[39;00m w \u001b[38;5;129;01min\u001b[39;00m words]\n\u001b[1;32m    251\u001b[0m tmp \u001b[38;5;241m=\u001b[39m [w \u001b[38;5;28;01mif\u001b[39;00m \u001b[38;5;28mself\u001b[39m\u001b[38;5;241m.\u001b[39m_case_sensitive \u001b[38;5;28;01melse\u001b[39;00m w\u001b[38;5;241m.\u001b[39mlower() \u001b[38;5;28;01mfor\u001b[39;00m w \u001b[38;5;129;01min\u001b[39;00m tmp_words \u001b[38;5;28;01mif\u001b[39;00m \u001b[38;5;28mself\u001b[39m\u001b[38;5;241m.\u001b[39m_check_if_should_check(w)]\n\u001b[0;32m--> 252\u001b[0m \u001b[38;5;28;01mreturn\u001b[39;00m [e2 \u001b[38;5;28;01mfor\u001b[39;00m e1 \u001b[38;5;129;01min\u001b[39;00m tmp \u001b[38;5;28;01mfor\u001b[39;00m e2 \u001b[38;5;129;01min\u001b[39;00m \u001b[38;5;28;43mself\u001b[39;49m\u001b[38;5;241;43m.\u001b[39;49m\u001b[43mknown\u001b[49m\u001b[43m(\u001b[49m\u001b[38;5;28;43mself\u001b[39;49m\u001b[38;5;241;43m.\u001b[39;49m\u001b[43medit_distance_1\u001b[49m\u001b[43m(\u001b[49m\u001b[43me1\u001b[49m\u001b[43m)\u001b[49m\u001b[43m)\u001b[49m]\n",
      "File \u001b[0;32m/opt/conda/lib/python3.11/site-packages/spellchecker/spellchecker.py:199\u001b[0m, in \u001b[0;36mSpellChecker.known\u001b[0;34m(self, words)\u001b[0m\n\u001b[1;32m    197\u001b[0m tmp_words \u001b[38;5;241m=\u001b[39m [ensure_unicode(w) \u001b[38;5;28;01mfor\u001b[39;00m w \u001b[38;5;129;01min\u001b[39;00m words]\n\u001b[1;32m    198\u001b[0m tmp \u001b[38;5;241m=\u001b[39m [w \u001b[38;5;28;01mif\u001b[39;00m \u001b[38;5;28mself\u001b[39m\u001b[38;5;241m.\u001b[39m_case_sensitive \u001b[38;5;28;01melse\u001b[39;00m w\u001b[38;5;241m.\u001b[39mlower() \u001b[38;5;28;01mfor\u001b[39;00m w \u001b[38;5;129;01min\u001b[39;00m tmp_words]\n\u001b[0;32m--> 199\u001b[0m \u001b[38;5;28;01mreturn\u001b[39;00m \u001b[43m{\u001b[49m\u001b[43mw\u001b[49m\u001b[43m \u001b[49m\u001b[38;5;28;43;01mfor\u001b[39;49;00m\u001b[43m \u001b[49m\u001b[43mw\u001b[49m\u001b[43m \u001b[49m\u001b[38;5;129;43;01min\u001b[39;49;00m\u001b[43m \u001b[49m\u001b[43mtmp\u001b[49m\u001b[43m \u001b[49m\u001b[38;5;28;43;01mif\u001b[39;49;00m\u001b[43m \u001b[49m\u001b[43mw\u001b[49m\u001b[43m \u001b[49m\u001b[38;5;129;43;01min\u001b[39;49;00m\u001b[43m \u001b[49m\u001b[38;5;28;43mself\u001b[39;49m\u001b[38;5;241;43m.\u001b[39;49m\u001b[43m_word_frequency\u001b[49m\u001b[38;5;241;43m.\u001b[39;49m\u001b[43mdictionary\u001b[49m\u001b[43m \u001b[49m\u001b[38;5;129;43;01mand\u001b[39;49;00m\u001b[43m \u001b[49m\u001b[38;5;28;43mself\u001b[39;49m\u001b[38;5;241;43m.\u001b[39;49m\u001b[43m_check_if_should_check\u001b[49m\u001b[43m(\u001b[49m\u001b[43mw\u001b[49m\u001b[43m)\u001b[49m\u001b[43m}\u001b[49m\n",
      "File \u001b[0;32m/opt/conda/lib/python3.11/site-packages/spellchecker/spellchecker.py:199\u001b[0m, in \u001b[0;36m<setcomp>\u001b[0;34m(.0)\u001b[0m\n\u001b[1;32m    197\u001b[0m tmp_words \u001b[38;5;241m=\u001b[39m [ensure_unicode(w) \u001b[38;5;28;01mfor\u001b[39;00m w \u001b[38;5;129;01min\u001b[39;00m words]\n\u001b[1;32m    198\u001b[0m tmp \u001b[38;5;241m=\u001b[39m [w \u001b[38;5;28;01mif\u001b[39;00m \u001b[38;5;28mself\u001b[39m\u001b[38;5;241m.\u001b[39m_case_sensitive \u001b[38;5;28;01melse\u001b[39;00m w\u001b[38;5;241m.\u001b[39mlower() \u001b[38;5;28;01mfor\u001b[39;00m w \u001b[38;5;129;01min\u001b[39;00m tmp_words]\n\u001b[0;32m--> 199\u001b[0m \u001b[38;5;28;01mreturn\u001b[39;00m {w \u001b[38;5;28;01mfor\u001b[39;00m w \u001b[38;5;129;01min\u001b[39;00m tmp \u001b[38;5;28;01mif\u001b[39;00m w \u001b[38;5;129;01min\u001b[39;00m \u001b[38;5;28mself\u001b[39m\u001b[38;5;241m.\u001b[39m_word_frequency\u001b[38;5;241m.\u001b[39mdictionary \u001b[38;5;129;01mand\u001b[39;00m \u001b[38;5;28mself\u001b[39m\u001b[38;5;241m.\u001b[39m_check_if_should_check(w)}\n",
      "\u001b[0;31mKeyboardInterrupt\u001b[0m: "
     ]
    }
   ],
   "source": [
    "import os\n",
    "from spellchecker import SpellChecker\n",
    "\n",
    "spell = SpellChecker(language='es')\n",
    "\n",
    "def correct_spelling(text):\n",
    "    corrected_text = []\n",
    "    for word in text.split():\n",
    "        corrected_word = spell.correction(word)\n",
    "        if corrected_word is not None: corrected_text.append(corrected_word)\n",
    "    print(corrected_text)\n",
    "    return corrected_text\n",
    "\n",
    "input_directory = '/home/jovyan/work/data/normalized'\n",
    "output_directory = '/home/jovyan/work/data/corrected'\n",
    "\n",
    "# Crear el directorio de salida si no existe\n",
    "if not os.path.exists(output_directory):\n",
    "    os.makedirs(output_directory)\n",
    "\n",
    "# Procesar los archivos en el directorio de entrada\n",
    "for filename in os.listdir(input_directory):\n",
    "    if filename.endswith('.txt'):\n",
    "        input_path = os.path.join(input_directory, filename)\n",
    "        output_path = os.path.join(output_directory, filename)\n",
    "        \n",
    "        # Leer el contenido del archivo\n",
    "        with open(input_path, 'r', encoding='utf-8') as file:\n",
    "            text = file.read()\n",
    "        \n",
    "        print(f\"Procesando archivo: {filename}\")\n",
    "        print(f\"Contenido original: {text[:100]}\") \n",
    "        \n",
    "        # Guardar el texto corregido en el directorio de salida\n",
    "        for filename in os.listdir(input_directory):\n",
    "            if filename.endswith('.txt'):\n",
    "                with open(os.path.join(input_directory, filename), 'r', encoding='utf-8') as file:\n",
    "                    text = file.read()\n",
    "                    spelled_text = correct_spelling(text)\n",
    "                    print(f\"Contenido modificado: {spelled_text[:100]}\")\n",
    "                    with open(os.path.join(output_directory, filename), 'w', encoding='utf-8') as out_file:\n",
    "                        out_file.write(' '.join(spelled_text))\n",
    "\n",
    "print(\"Textos corregidos y guardados en el directorio 'corrected'.\")\n"
   ]
  },
  {
   "cell_type": "markdown",
   "metadata": {},
   "source": [
    "## Tokenizacion"
   ]
  },
  {
   "cell_type": "code",
   "execution_count": null,
   "metadata": {},
   "outputs": [],
   "source": [
    "\n",
    "import os\n",
    "import spacy\n",
    "\n",
    "# spaCy en español\n",
    "nlp = spacy.load(\"es_core_news_sm\")\n",
    "\n",
    "def tokenize(text):\n",
    "    doc = nlp(text)\n",
    "    tokens = [token.text for token in doc]\n",
    "    return tokens\n",
    "\n",
    "input_directory = '/home/jovyan/work/data/corrected'\n",
    "output_directory = '/home/jovyan/work/data/tokenized'\n",
    "\n",
    "# Guardamos los archivos tokenizados\n",
    "if not os.path.exists(output_directory):\n",
    "    os.makedirs(output_directory)\n",
    "\n",
    "for filename in os.listdir(input_directory):\n",
    "    if filename.endswith('.txt'):\n",
    "        with open(os.path.join(input_directory, filename), 'r', encoding='utf-8') as file:\n",
    "            text = file.read()\n",
    "            tokens = tokenize(text)\n",
    "            with open(os.path.join(output_directory, filename), 'w', encoding='utf-8') as out_file:\n",
    "                out_file.write(' '.join(tokens))\n"
   ]
  },
  {
   "cell_type": "markdown",
   "metadata": {},
   "source": [
    "## Stopwords"
   ]
  },
  {
   "cell_type": "code",
   "execution_count": null,
   "metadata": {},
   "outputs": [
    {
     "name": "stderr",
     "output_type": "stream",
     "text": [
      "[nltk_data] Downloading package stopwords to /home/jovyan/nltk_data...\n",
      "[nltk_data]   Package stopwords is already up-to-date!\n"
     ]
    }
   ],
   "source": [
    "import os\n",
    "import spacy\n",
    "from nltk.corpus import stopwords\n",
    "import nltk\n",
    "\n",
    "nltk.download('stopwords')\n",
    "stop_words = set(stopwords.words('spanish'))\n",
    "\n",
    "# spaCy en español\n",
    "nlp = spacy.load(\"es_core_news_sm\")\n",
    "\n",
    "def remove_stopwords(text):\n",
    "    doc = nlp(text)\n",
    "    tokens = [token.text for token in doc if token.text.lower() not in stop_words]\n",
    "    return tokens\n",
    "\n",
    "input_directory = '/home/jovyan/work/data/tokenized'\n",
    "output_directory = '/home/jovyan/work/data/no_stopwords'\n",
    "\n",
    "# Guardamos los archivos sin las stopwords\n",
    "if not os.path.exists(output_directory):\n",
    "    os.makedirs(output_directory)\n",
    "\n",
    "for filename in os.listdir(input_directory):\n",
    "    if filename.endswith('.txt'):\n",
    "        with open(os.path.join(input_directory, filename), 'r', encoding='utf-8') as file:\n",
    "            text = file.read()\n",
    "            tokens = remove_stopwords(text)\n",
    "            with open(os.path.join(output_directory, filename), 'w', encoding='utf-8') as out_file:\n",
    "                out_file.write(' '.join(tokens))\n"
   ]
  },
  {
   "cell_type": "markdown",
   "metadata": {},
   "source": [
    "## Lemmatización"
   ]
  },
  {
   "cell_type": "code",
   "execution_count": null,
   "metadata": {},
   "outputs": [],
   "source": [
    "import os\n",
    "import spacy\n",
    "\n",
    "# spaCy en español\n",
    "nlp = spacy.load(\"es_core_news_sm\")\n",
    "\n",
    "def lemmatize_with_context(text):\n",
    "    doc = nlp(text)\n",
    "    lemmatized_tokens = []\n",
    "\n",
    "    for token in doc:\n",
    "        if token.pos_ in [\"NOUN\", \"PRON\", \"ADJ\", \"DET\"]:\n",
    "            lemmatized_tokens.append(token.text)\n",
    "        else:\n",
    "            lemmatized_tokens.append(token.lemma_)\n",
    "    \n",
    "    lemmatized_text = \" \".join(lemmatized_tokens)\n",
    "    return lemmatized_text\n",
    "\n",
    "input_directory = '/home/jovyan/work/data/no_stopwords'\n",
    "output_directory = '/home/jovyan/work/data/lemmatized'\n",
    "\n",
    "if not os.path.exists(output_directory):\n",
    "    os.makedirs(output_directory)\n",
    "\n",
    "for filename in os.listdir(input_directory):\n",
    "    if filename.endswith('.txt'):\n",
    "        with open(os.path.join(input_directory, filename), 'r', encoding='utf-8') as file:\n",
    "            text = file.read()\n",
    "            lemmatized_text = lemmatize_with_context(text)\n",
    "            with open(os.path.join(output_directory, filename), 'w', encoding='utf-8') as out_file:\n",
    "                out_file.write(lemmatized_text)\n"
   ]
  },
  {
   "cell_type": "markdown",
   "metadata": {},
   "source": [
    "## Reorganizamos las frases"
   ]
  },
  {
   "cell_type": "code",
   "execution_count": null,
   "metadata": {},
   "outputs": [
    {
     "name": "stdout",
     "output_type": "stream",
     "text": [
      "Textos reorganizados y guardados en el directorio 'corrected'.\n"
     ]
    }
   ],
   "source": [
    "import os\n",
    "import spacy\n",
    "\n",
    "# Directorios de entrada y salida\n",
    "input_directory = '/home/jovyan/work/data/lemmatized'\n",
    "output_directory = '/home/jovyan/work/data/reestructured'\n",
    "\n",
    "# Crear el directorio de salida si no existe\n",
    "if not os.path.exists(output_directory):\n",
    "    os.makedirs(output_directory)\n",
    "\n",
    "# Cargar el modelo de lenguaje español de spaCy\n",
    "nlp = spacy.load(\"es_core_news_sm\")\n",
    "\n",
    "# Función para reorganizar las palabras en frases coherentes\n",
    "def reorganize_sentences(text):\n",
    "    doc = nlp(text)\n",
    "    sentences = []\n",
    "\n",
    "    for sent in doc.sents:\n",
    "        words = []\n",
    "        for token in sent:\n",
    "            if token.pos_ in [\"NOUN\", \"VERB\", \"ADJ\", \"ADV\"]:\n",
    "                words.append((token.i, token.text, token.dep_))\n",
    "        \n",
    "        words_sorted = sorted(words, key=lambda x: x[0])\n",
    "        reordered_sentence = \" \".join([word[1] for word in words_sorted])\n",
    "        sentences.append(reordered_sentence)\n",
    "\n",
    "    return \" \".join(sentences)\n",
    "\n",
    "# Procesar los archivos en el directorio de entrada\n",
    "for filename in os.listdir(input_directory):\n",
    "    if filename.endswith('.txt'):\n",
    "        with open(os.path.join(input_directory, filename), 'r', encoding='utf-8') as file:\n",
    "            text = file.read()\n",
    "            reorganized_text = reorganize_sentences(text)\n",
    "            \n",
    "            # Guardar el texto reorganizado en el directorio de salida\n",
    "            with open(os.path.join(output_directory, filename), 'w', encoding='utf-8') as out_file:\n",
    "                out_file.write(reorganized_text)\n",
    "\n",
    "print(\"Textos reorganizados y guardados en el directorio 'corrected'.\")\n"
   ]
  },
  {
   "cell_type": "markdown",
   "metadata": {},
   "source": [
    "## Análisis de Resultados\n",
    "### Comparación de Textos Originales y Corregidos"
   ]
  },
  {
   "cell_type": "code",
   "execution_count": null,
   "metadata": {},
   "outputs": [
    {
     "name": "stdout",
     "output_type": "stream",
     "text": [
      "Original: mi gente de Perú qué tal estáis ayer nos quedamos bueno el otro día nos quedamos eh hostias es el caballo vale eh No hay tiempo para intros hay que buscar a a Don Ramón que está perdido en el mar eh E\n",
      "Corrected: perú ayer quedar bueno día quedar hostias caballo valer tiempo antros buscar esperar seguir vivo favor vivo saber jugado vida barco casi hacer valer dejar rabón volver casa hoy planes increíbles valer\n",
      "==================================================\n",
      "Original: [Música] [Música] [Música] más [Música] voy a explicarte todo lo que te extraño te extraño demasiado ahora podrás como es tan diario yo soy yo ya juegan amigos a díaz ha llegado el momento de volverno\n",
      "Corrected: ir explicarte extraño demasiado ahora podrás tanto diario jugar amigos llegado momento volver encontrar ahora procrastinar realmente usar acomodar pasar cosas hermoso caótico ver acá gustar chupones e\n",
      "==================================================\n",
      "Original: Estamos en uno de los trenes\n",
      "más costosos de todo el mundo. Tiene spa, restaurantes, bar, terraza, una suite digna de un hotel\n",
      "de cinco estrellas. No por nada cuesta más de $6000 la noche. Hoy vamos a\n",
      "Corrected: costosos mundo terraza suite digna hotel estrellas costar noches hoy vivir experiencia trenes lujosos mundo presumir lujoso continente americano exploradores andino perú recorrer rutas precios rondar \n",
      "==================================================\n",
      "Original: Qué tal eh sazonado con tinta con el sabor de las noticias del día de hoy a la madre güey hay carriles tú Ay Sí [Música] amigos amigas Bienvenidos a una edición más de Luisillo el Gordillo en esta oca\n",
      "Corrected: sazonado tinta sabor noticias día hoy güey carriles amigos amigo bienvenido edición ocasión transportado país decir país subcontinente indio país masivo caótico muchísima cultura muchísima tradición s\n",
      "==================================================\n",
      "Original: Qué pasa chicos eh estoy aquí un poco a oscuras y escondido porque bueno para poneros en contexto el otro día Como sabéis algunos me mandaron una caja rollo puzle eh Y Misteriosa que tenía un tesoro d\n",
      "Corrected: Pasar chicos aquí oscuras escondido bueno poneros contexto día sabéis mandar caja puzle misterioso tesoro dentro abrir usar ingenio resuelto puzle chicos bueno resultar dentro caja poner venir encontr\n",
      "==================================================\n",
      "Original: [Música] hola hoy tú que te crees que no te extraño nada extraño muchísimo en verdad pero aquí estamos para usarnos la juntos un ratito para puras con esta en el día de hoy yo soy chucha pero que esté\n",
      "Corrected: hoy crees extraño muchísima verdad aquí usarnos junto ratito puro día hoy cucharero bien fijar ahora sentir hacer buen rato actualizar controlando bien mirar acá mental así echar justa necesaria quizá\n",
      "==================================================\n",
      "Original: [Música] esto es importante para cada adulto o cada persona que de temprano se sienta adulta porque marca el fin de un ciclo en el que podemos mirar atrás y ponderar no salió todo como queríamos fue u\n",
      "Corrected: Importante adulto persona temprano sentar adulta fin ciclo mirar atrás ponderar salir querer buen año importante aún preguntar encoger corazón dar esperanza miedo año comenzar largo top verás retratad\n",
      "==================================================\n",
      "Original: ya hice un top al respecto hace muchos años y leer los comentarios de personas con el don de la imaginación a quienes se les retorcían las tripas poniéndose en el lugar de las personas que sufrieron a\n",
      "Corrected: Hacer top respecto hacer años leer comentarios personas imaginación retorcer tripas poner lugar personas sufrir hórrido causar placer aquí secuela aún grotesca primer top verás continuación peor sórdi\n",
      "==================================================\n"
     ]
    }
   ],
   "source": [
    "import os\n",
    "\n",
    "# Función para leer los primeros n caracteres de un archivo\n",
    "def read_first_n_chars(file_path, n):\n",
    "    with open(file_path, 'r', encoding='utf-8') as file:\n",
    "        text = file.read()\n",
    "        return text[:n]\n",
    "\n",
    "# Función para mostrar la comparación entre el texto original y el corregido\n",
    "def compare_texts(original, corrected):\n",
    "    print(f\"Original: {original}\")\n",
    "    print(f\"Corrected: {corrected}\")\n",
    "    print(\"=\"*50)\n",
    "\n",
    "# Función principal para comparar textos en archivos\n",
    "def compare_files(original_directory, corrected_directory, num_chars):\n",
    "    # Obtener los nombres de los archivos en el directorio original\n",
    "    file_names = [f for f in os.listdir(original_directory) if f.endswith('.txt')]\n",
    "\n",
    "    # Aplicar la comparación a los archivos de texto\n",
    "    for file_name in file_names:\n",
    "        original_path = os.path.join(original_directory, file_name)\n",
    "        corrected_path = os.path.join(corrected_directory, file_name)\n",
    "        \n",
    "        # Verificar que el archivo corregido exista\n",
    "        if os.path.exists(corrected_path):\n",
    "            original_text = read_first_n_chars(original_path, num_chars)\n",
    "            corrected_text = read_first_n_chars(corrected_path, num_chars)\n",
    "            \n",
    "            # Comparar los textos\n",
    "            compare_texts(original_text, corrected_text)\n",
    "        else:\n",
    "            print(f\"Archivo corregido no encontrado para: {file_name}\")\n",
    "\n",
    "# Directorios de transcripciones originales y corregidas\n",
    "original_directory = '/home/jovyan/work/data/transcripciones'\n",
    "corrected_directory = '/home/jovyan/work/data/reestructured'\n",
    "\n",
    "# Número de caracteres a comparar (puedes cambiar este valor según necesites)\n",
    "num_chars_to_compare = 200\n",
    "\n",
    "# Llamada a la función principal\n",
    "compare_files(original_directory, corrected_directory, num_chars_to_compare)\n"
   ]
  }
 ],
 "metadata": {
  "kernelspec": {
   "display_name": "Python 3 (ipykernel)",
   "language": "python",
   "name": "python3"
  },
  "language_info": {
   "codemirror_mode": {
    "name": "ipython",
    "version": 3
   },
   "file_extension": ".py",
   "mimetype": "text/x-python",
   "name": "python",
   "nbconvert_exporter": "python",
   "pygments_lexer": "ipython3",
   "version": "3.11.6"
  }
 },
 "nbformat": 4,
 "nbformat_minor": 2
}
